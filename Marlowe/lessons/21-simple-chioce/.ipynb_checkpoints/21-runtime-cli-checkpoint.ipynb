{
 "cells": [
  {
   "cell_type": "markdown",
   "id": "caa144a8-d3d7-42de-bfdd-8b27cf4c5cbe",
   "metadata": {
    "tags": [],
    "vscode": {
     "languageId": "shellscript"
    }
   },
   "source": [
    "# Simple Choice Using Marlowe Runtime\\'s Command-Line Interface\n",
    "\n",
    "***Before running this notebook, you might want to use Jupyter's \"clear output\" function to erase the results of the previous execution of this notebook. That will make more apparent what has been executed in the current session.***\n",
    "This is a simple bet contract....\n",
    "\n",
    "In [Marlowe Playground](https://play.marlowe.iohk.io//), the contract looks like this in Blockly format.\n",
    "\n",
    "![Zero-coupon bond Marlowe contract](../../images/SimpleChoice_marloweblocks.png)\n",
    "\n",
    "In Marlowe format it appears as\n",
    "```\n",
    "When\n",
    "    [Case\n",
    "        (Deposit\n",
    "            (Address \"addr_test1vpt306v4wp7m6xn46hje64d6yuraxsruna03as4qgakm5cc222sc0\")\n",
    "            (Address \"addr_test1vpt306v4wp7m6xn46hje64d6yuraxsruna03as4qgakm5cc222sc0\")\n",
    "            (Token \"\" \"\")\n",
    "            (Constant 1000000)\n",
    "        )\n",
    "        (When\n",
    "            [Case\n",
    "                (Choice\n",
    "                    (ChoiceId\n",
    "                        \"val\"\n",
    "                        (Address \"addr_test1vqplkzqf5sx7e7ntx4p2v9pvzpalw3zxt0jm4ysqfeernsqng4nkj\")\n",
    "                    )\n",
    "                    [Bound 1 10000000000]\n",
    "                )\n",
    "                (Pay\n",
    "                    (Address \"addr_test1vpt306v4wp7m6xn46hje64d6yuraxsruna03as4qgakm5cc222sc0\")\n",
    "                    (Account (Address \"addr_test1vpt306v4wp7m6xn46hje64d6yuraxsruna03as4qgakm5cc222sc0\"))\n",
    "                    (Token \"\" \"\")\n",
    "                    (Constant 1000000)\n",
    "                    Close \n",
    "                )]\n",
    "            (TimeParam \"time_param\")\n",
    "            Close \n",
    "        )]\n",
    "    (TimeParam \"time_param\")\n",
    "    Close \n",
    "```"
   ]
  },
  {
   "cell_type": "markdown",
   "id": "b94d119b-6a78-4972-83be-bede23021187",
   "metadata": {},
   "source": [
    "## Preliminaries\n",
    "\n",
    "See [Preliminaries](../../docs/preliminaries.md) for information on setting up one's environment for using this tutorial.\n",
    "\n",
    "The first step is to check we have all the required tools and environment variables available to the notebook. "
   ]
  },
  {
   "cell_type": "code",
   "execution_count": 3,
   "id": "767c5145",
   "metadata": {
    "tags": [],
    "vscode": {
     "languageId": "shellscript"
    }
   },
   "outputs": [
    {
     "name": "stdout",
     "output_type": "stream",
     "text": [
      "########################\n",
      "## Check CLI commands ##\n",
      "########################\n",
      "\n",
      "The following required programs are available in the shell:\n",
      "  * jq\n",
      "  * json2yaml\n",
      "  * marlowe-cli\n",
      "  * marlowe-runtime-cli\n",
      "  * cardano-cli\n",
      "  * cardano-address\n",
      "  * cardano-wallet\n",
      "\n",
      "#########################\n",
      "## Check required envs ##\n",
      "#########################\n",
      "\n",
      "The following environment variables are available in the shell:\n",
      "  * CARDANO_NODE_SOCKET_PATH = /ipc/node.socket\n",
      "  * MARLOWE_RT_HOST = proxy\n",
      "  * MARLOWE_RT_PORT = 3700\n",
      "  * MARLOWE_RT_WEBSERVER_HOST = web-server\n",
      "  * MARLOWE_RT_WEBSERVER_PORT = 3780\n",
      "  * MARLOWE_RT_WEBSERVER_URL = http://web-server:3780\n",
      "  * FAUCET_ADDR = addr_test1vr847d0c4w0zhzk24jptvkuunyz0mhhx4d2m8t7khk4a3fcfr09pw\n",
      "  * FAUCET_SKEY = ../../keys/faucet.skey\n",
      "\n",
      "###################\n",
      "## Check Network ##\n",
      "###################\n",
      "\n",
      "The NETWORK is set to preprod\n",
      "CARDANO_TESTNET_MAGIC = 1\n",
      "CARDANO_SCAN_URL = https://preprod.cardanoscan.io\n",
      "MARLOWE_SCAN_URL = https://preprod.marlowescan.com\n"
     ]
    }
   ],
   "source": [
    "export SCRIPTS=../../scripts\n",
    "export KEYS=../../keys\n",
    "source $SCRIPTS/check-tools-and-env.sh"
   ]
  },
  {
   "cell_type": "markdown",
   "id": "a8ce1b86",
   "metadata": {},
   "source": [
    "Make sure you've also [setup and funded](../../setup/01-setup-keys.ipynb) the different parties\n",
    "\n",
    "- Lender\n",
    "    - \\$KEYS/lender.address: Cardano address for the lender\n",
    "    - \\$KEYS/lender.skey: location of signing key file for the lender\n",
    "- Borrower\n",
    "    - \\$KEYS/borrower.address: Cardano address for the borrower\n",
    "    - \\$KEYS/borrower.skey: location of signing key file for the borrower"
   ]
  },
  {
   "cell_type": "markdown",
   "id": "6699e48f-cdb4-4532-9760-b080724142ef",
   "metadata": {
    "tags": [],
    "vscode": {
     "languageId": "shellscript"
    }
   },
   "source": [
    "### Lender address and funds\n",
    "\n",
    "Check that an address and key has been created for the lender. If not, see \"Creating Addresses and Signing Keys\" in [setup/01-setup-keys.ipynb](../../setup/01-setup-keys.ipynb)."
   ]
  },
  {
   "cell_type": "code",
   "execution_count": 4,
   "id": "c7def6b8-c617-4049-872f-4974755d0cb0",
   "metadata": {
    "tags": [],
    "vscode": {
     "languageId": "shellscript"
    }
   },
   "outputs": [
    {
     "name": "stdout",
     "output_type": "stream",
     "text": [
      "LENDER_ADDR = addr_test1vpt306v4wp7m6xn46hje64d6yuraxsruna03as4qgakm5cc222sc0\n"
     ]
    }
   ],
   "source": [
    "LENDER_SKEY=$KEYS/lender.skey\n",
    "LENDER_ADDR=$(cat $KEYS/lender.address)\n",
    "echo \"LENDER_ADDR = $LENDER_ADDR\""
   ]
  },
  {
   "cell_type": "markdown",
   "id": "31614d3b-10c1-4704-b49a-82aa924cba23",
   "metadata": {},
   "source": [
    "Check that the lender has at least 10 ada."
   ]
  },
  {
   "cell_type": "code",
   "execution_count": 5,
   "id": "111e60bf-a7c8-41f1-b729-15d1defd27df",
   "metadata": {
    "tags": [],
    "vscode": {
     "languageId": "shellscript"
    }
   },
   "outputs": [
    {
     "name": "stdout",
     "output_type": "stream",
     "text": [
      "                           TxHash                                 TxIx        Amount\n",
      "--------------------------------------------------------------------------------------\n",
      "2eaf02fbaeca4386fe1d07c8b268e0e0ef4048d5d53c514de33cf397190b5847     4        1034400 lovelace + 1 f94962a6a0edb937ae7b606053667e82416207854cb9f2f4418d4654.53656c6c6572 + TxOutDatumNone\n",
      "6074069fd35c5626aa985460c04dc1da05857ac0a6a3e3a9fcaff39abc841522     1        2000000 lovelace + TxOutDatumNone\n",
      "b6f45988e23c9b6f056797dba438d4930eae4d4e32e2484c2d413472f7d57edb     1        3000000 lovelace + TxOutDatumNone\n",
      "cb40ef5d63c8372f0613e3e24bf928b1cc4c4cf0ff7021d43149a1147b5eeb45     0        913257485 lovelace + TxOutDatumNone\n",
      "e309632b0cf088c428bf4be8a1c65cbe83b02961468d95f5c8b7cc60022cd97d     0        55259678 lovelace + TxOutDatumNone\n",
      "f57ee7a4e8707b8df9798357a2e5b0d811e67ae658c6f751e816d8a82c340220     0        8221879 lovelace + TxOutDatumNone\n",
      "f73fb7271844f7756c39a2a3210b91e5309762ee029f2ae6dfeb3a6492068826     0        8221879 lovelace + TxOutDatumNone\n"
     ]
    }
   ],
   "source": [
    "cardano-cli query utxo --testnet-magic \"$CARDANO_TESTNET_MAGIC\" --address \"$LENDER_ADDR\""
   ]
  },
  {
   "cell_type": "markdown",
   "id": "d1d47a97-8c70-47c8-9c80-90e6619ea37c",
   "metadata": {},
   "source": [
    "One can view the address on a Cardano explorer. It sometimes takes thirty seconds or so for the transaction to be visible in an explorer."
   ]
  },
  {
   "cell_type": "code",
   "execution_count": 6,
   "id": "d4eb8b9f-84a2-4fce-abec-8725dc67c46a",
   "metadata": {
    "tags": [],
    "vscode": {
     "languageId": "shellscript"
    }
   },
   "outputs": [
    {
     "name": "stdout",
     "output_type": "stream",
     "text": [
      "https://preprod.cardanoscan.io/address/addr_test1vpt306v4wp7m6xn46hje64d6yuraxsruna03as4qgakm5cc222sc0\n"
     ]
    }
   ],
   "source": [
    "$SCRIPTS/cardano-scan-address.sh $LENDER_ADDR"
   ]
  },
  {
   "cell_type": "markdown",
   "id": "7cb22b51-b719-429d-ab8c-ef43973905a7",
   "metadata": {
    "tags": [],
    "vscode": {
     "languageId": "shellscript"
    }
   },
   "source": [
    "### Mediator address and funds\n",
    "\n",
    "Check that an address and key has been created for the borrower. "
   ]
  },
  {
   "cell_type": "code",
   "execution_count": 7,
   "id": "b60f9abe-4956-4783-86cf-1827bd076dfe",
   "metadata": {
    "tags": [],
    "vscode": {
     "languageId": "shellscript"
    }
   },
   "outputs": [
    {
     "name": "stdout",
     "output_type": "stream",
     "text": [
      "MEDIATOR_ADDR = addr_test1vqplkzqf5sx7e7ntx4p2v9pvzpalw3zxt0jm4ysqfeernsqng4nkj\n"
     ]
    }
   ],
   "source": [
    "MEDIATOR_SKEY=$KEYS/mediator.skey\n",
    "MEDIATOR_ADDR=$(cat $KEYS/mediator.address)\n",
    "echo \"MEDIATOR_ADDR = $MEDIATOR_ADDR\""
   ]
  },
  {
   "cell_type": "markdown",
   "id": "9d9e5126-619f-4f5b-b51b-d4b5c80b952f",
   "metadata": {},
   "source": [
    "Check that the borrower has at least 10 ada."
   ]
  },
  {
   "cell_type": "code",
   "execution_count": 9,
   "id": "a4a8216e-c5d3-4706-8ab9-918252369263",
   "metadata": {
    "tags": [],
    "vscode": {
     "languageId": "shellscript"
    }
   },
   "outputs": [
    {
     "name": "stdout",
     "output_type": "stream",
     "text": [
      "                           TxHash                                 TxIx        Amount\n",
      "--------------------------------------------------------------------------------------\n",
      "2eaf02fbaeca4386fe1d07c8b268e0e0ef4048d5d53c514de33cf397190b5847     3        1043020 lovelace + 1 f94962a6a0edb937ae7b606053667e82416207854cb9f2f4418d4654.4d65646961746f72 + TxOutDatumNone\n",
      "b6f45988e23c9b6f056797dba438d4930eae4d4e32e2484c2d413472f7d57edb     0        993917577 lovelace + TxOutDatumNone\n",
      "c5e3402159deefa88a459c4e4ee69f51603a051736b9b054a429766b0cb74290     2        2000000 lovelace + TxOutDatumNone\n"
     ]
    }
   ],
   "source": [
    "cardano-cli query utxo --testnet-magic \"$CARDANO_TESTNET_MAGIC\" --address \"$MEDIATOR_ADDR\""
   ]
  },
  {
   "cell_type": "markdown",
   "id": "038e042c-2638-415c-ad7b-de390a82416b",
   "metadata": {},
   "source": [
    "One can view the address on a Cardano explorer. It sometimes takes thirty seconds or so for the transaction to be visible in an explorer."
   ]
  },
  {
   "cell_type": "code",
   "execution_count": 10,
   "id": "3455b47d-45f9-4d31-aebe-ab0ea7b36aa9",
   "metadata": {
    "tags": [],
    "vscode": {
     "languageId": "shellscript"
    }
   },
   "outputs": [
    {
     "name": "stdout",
     "output_type": "stream",
     "text": [
      "https://preprod.cardanoscan.io/address/addr_test1vqplkzqf5sx7e7ntx4p2v9pvzpalw3zxt0jm4ysqfeernsqng4nkj\n"
     ]
    }
   ],
   "source": [
    "$SCRIPTS/cardano-scan-address.sh $MEDIATOR_ADDR"
   ]
  },
  {
   "cell_type": "markdown",
   "id": "b0f231be-b01f-4b30-a086-a3371eda42a3",
   "metadata": {},
   "source": [
    "## Design the contract\n",
    "\n",
    "The .json will be generated from the playground\n",
    "1. Visit https://play.marlowe.iohk.io/ in a web browser.\n",
    "2. Select \"New Project\".\n",
    "3. Select \"Marlowe\" and paste the code in the begining of this notebook.\n",
    "4. Paste the Lender and Mediator addresses in the corresponding sections.\n",
    "5. Select \"Send to Simulator\".\n",
    "6. Set the \"Payment deadline\".\n",
    "7. Select \"Download as JSON\", set the file name to \"SimpeChoice-contract.json\", and store the file in this folder, namely [marlowe-starter-kit/](.). Note that most interfaces for Jupyter notebooks allow one to drag and drop a file into their explorer panel.\n",
    "\n",
    "***Be careful setting the deadlines because, if these mistakenly are in the past or in the too-near future, then parts of the contract will time out and not operate as described in this tutorial.***"
   ]
  },
  {
   "cell_type": "markdown",
   "id": "ba4c9c10",
   "metadata": {},
   "source": [
    "On the Cardano blockchain, the protocol parameters require that each UTxO contain at least some ada. Here we will start the contract with 2 ada."
   ]
  },
  {
   "cell_type": "code",
   "execution_count": 18,
   "id": "701b69a5",
   "metadata": {},
   "outputs": [
    {
     "name": "stdout",
     "output_type": "stream",
     "text": [
      "MIN_LOVELACE = 2000000 lovelace\n"
     ]
    }
   ],
   "source": [
    "ADA=1000000  # 1 ada = 1,000,000 lovelace\n",
    "MIN_LOVELACE=\"$((2 * ADA))\"\n",
    "echo \"MIN_LOVELACE = $MIN_LOVELACE lovelace\""
   ]
  },
  {
   "cell_type": "markdown",
   "id": "a1f0813f-86ae-4209-9a78-cd533fca9857",
   "metadata": {},
   "source": [
    "## Examine the contract\n",
    "\n",
    "View the contract file as YAML."
   ]
  },
  {
   "cell_type": "code",
   "execution_count": 12,
   "id": "112824a7-635f-4134-b133-a20e63660b35",
   "metadata": {
    "tags": [],
    "vscode": {
     "languageId": "shellscript"
    }
   },
   "outputs": [
    {
     "name": "stdout",
     "output_type": "stream",
     "text": [
      "timeout: 1699052880000\n",
      "timeout_continuation: close\n",
      "when:\n",
      "- case:\n",
      "    deposits: 1000000\n",
      "    into_account:\n",
      "      address: addr_test1vpt306v4wp7m6xn46hje64d6yuraxsruna03as4qgakm5cc222sc0\n",
      "    of_token:\n",
      "      currency_symbol: ''\n",
      "      token_name: ''\n",
      "    party:\n",
      "      address: addr_test1vpt306v4wp7m6xn46hje64d6yuraxsruna03as4qgakm5cc222sc0\n",
      "  then:\n",
      "    timeout: 1699052880000\n",
      "    timeout_continuation: close\n",
      "    when:\n",
      "    - case:\n",
      "        choose_between:\n",
      "        - from: 1\n",
      "          to: 10000000000\n",
      "        for_choice:\n",
      "          choice_name: val\n",
      "          choice_owner:\n",
      "            address: addr_test1vqplkzqf5sx7e7ntx4p2v9pvzpalw3zxt0jm4ysqfeernsqng4nkj\n",
      "      then:\n",
      "        from_account:\n",
      "          address: addr_test1vpt306v4wp7m6xn46hje64d6yuraxsruna03as4qgakm5cc222sc0\n",
      "        pay: 1000000\n",
      "        then: close\n",
      "        to:\n",
      "          account:\n",
      "            address: addr_test1vpt306v4wp7m6xn46hje64d6yuraxsruna03as4qgakm5cc222sc0\n",
      "        token:\n",
      "          currency_symbol: ''\n",
      "          token_name: ''\n"
     ]
    }
   ],
   "source": [
    "json2yaml SimpleChoice-contract.json"
   ]
  },
  {
   "cell_type": "markdown",
   "id": "d3f9edcd-5f91-4739-bdb4-02a14c9acdc0",
   "metadata": {},
   "source": [
    "Also view the initial state of the contract. Note that Marlowe Runtime overrides this with a state that it builds."
   ]
  },
  {
   "cell_type": "code",
   "execution_count": 13,
   "id": "34308675-6e14-4dfc-acb8-247c4add03c9",
   "metadata": {
    "tags": [],
    "vscode": {
     "languageId": "shellscript"
    }
   },
   "outputs": [
    {
     "name": "stdout",
     "output_type": "stream",
     "text": [
      "accounts:\n",
      "- - - address: addr_test1vpt306v4wp7m6xn46hje64d6yuraxsruna03as4qgakm5cc222sc0\n",
      "    - currency_symbol: ''\n",
      "      token_name: ''\n",
      "  - 5000000\n",
      "boundValues: []\n",
      "choices: []\n",
      "minTime: 1\n"
     ]
    }
   ],
   "source": [
    "json2yaml SimpleChoice-state.json"
   ]
  },
  {
   "cell_type": "markdown",
   "id": "00f357bf-ebf0-4459-adb9-32c5a1140759",
   "metadata": {
    "tags": []
   },
   "source": [
    "### \\[Optional, but recommended\\] Check the safety of the contract\n",
    "\n",
    "If we were running the contract on the Cardano `mainnet`, then we\\'d want to check its safety before creating it, so that there is no chance that we might lose funds.\n",
    "\n",
    "Here are the steps for checking the safety of a contract:\n",
    "\n",
    "1. Understand the [Marlowe Language](https://marlowe.iohk.io/).\n",
    "2. Understand Cardano\\'s [Extended UTxO Model](https://docs.cardano.org/learn/eutxo-explainer).\n",
    "3. Read and understand the [Marlowe Best Practices Guide](https://github.com/input-output-hk/marlowe-cardano/blob/main/marlowe/best-practices.md).\n",
    "4. Read and understand the [Marlowe Security Guide](https://github.com/input-output-hk/marlowe-cardano/blob/main/marlowe/security.md).\n",
    "5. Use [Marlowe Playground](https://play.marlowe.iohk.io//) to flag warnings, perform static analysis, and simulate the contract.\n",
    "6. Use [Marlowe CLI\\'s](https://github.com/input-output-hk/marlowe-cardano/blob/main/marlowe-cli/ReadMe.md) `marlowe-cli run analyze` tool to study whether the contract can run on a Cardano network.\n",
    "7. Run *all execution paths* of the contract on a [Cardano testnet](https://docs.cardano.org/cardano-testnet/overview).\n",
    "\n",
    "Here we\\'ll perform step 6. First we bundle the contract and its initial state into a single file."
   ]
  },
  {
   "cell_type": "code",
   "execution_count": 14,
   "id": "f2c5f0ad-8c56-486a-9107-8abfa61ab68f",
   "metadata": {
    "tags": [],
    "vscode": {
     "languageId": "shellscript"
    }
   },
   "outputs": [
    {
     "name": "stdout",
     "output_type": "stream",
     "text": [
      "36K\tSimpleChoice-marlowe.json\n"
     ]
    }
   ],
   "source": [
    "# Create the contract and bundle\n",
    "marlowe-cli run initialize \\\n",
    "  --permanently-without-staking \\\n",
    "  --contract-file SimpleChoice-contract.json \\\n",
    "  --state-file SimpleChoice-state.json \\\n",
    "  --out-file SimpleChoice-marlowe.json\n",
    "  \n",
    "# Show its size\n",
    "du -hs SimpleChoice-marlowe.json"
   ]
  },
  {
   "cell_type": "markdown",
   "id": "f86ee195-d7a0-4e2e-8cc6-0155112f9c56",
   "metadata": {},
   "source": [
    "Now we analyze the contract and its execution paths."
   ]
  },
  {
   "cell_type": "code",
   "execution_count": 15,
   "id": "bb0789a1-3e56-4e5a-91aa-33417e957c9f",
   "metadata": {
    "tags": [],
    "vscode": {
     "languageId": "shellscript"
    }
   },
   "outputs": [
    {
     "name": "stdout",
     "output_type": "stream",
     "text": [
      "- Preconditions:\n",
      "    Duplicate accounts: []\n",
      "    Duplicate bound values: []\n",
      "    Duplicate choices: []\n",
      "    Invalid account parties: []\n",
      "    Invalid account tokens: []\n",
      "    Invalid choice parties: []\n",
      "    Invalid roles currency: false\n",
      "    Non-positive account balances: []\n",
      "- Role names:\n",
      "    Blank role names: false\n",
      "    Invalid role names: []\n",
      "- Tokens:\n",
      "    Invalid tokens: []\n",
      "- Maximum value:\n",
      "    Actual: 96\n",
      "    Invalid: false\n",
      "    Maximum: 5000\n",
      "    Percentage: 1.92\n",
      "    Unit: byte\n",
      "- Minimum UTxO:\n",
      "    Requirement:\n",
      "      lovelace: 1120600\n",
      "- Execution cost:\n",
      "    Memory:\n",
      "      Actual: 5141440\n",
      "      Invalid: false\n",
      "      Maximum: 14000000\n",
      "      Percentage: 36.72457142857143\n",
      "    Steps:\n",
      "      Actual: 1348532801\n",
      "      Invalid: false\n",
      "      Maximum: 10000000000\n",
      "      Percentage: 13.48532801\n",
      "- Transaction size:\n",
      "    Actual: 1282\n",
      "    Invalid: false\n",
      "    Maximum: 16384\n",
      "    Percentage: 7.82470703125\n"
     ]
    }
   ],
   "source": [
    "marlowe-cli run analyze \\\n",
    "  --marlowe-file SimpleChoice-marlowe.json"
   ]
  },
  {
   "cell_type": "markdown",
   "id": "2eae4910-05cf-4eca-ad15-be285ee3c782",
   "metadata": {},
   "source": [
    "In the above report, we see that the contract doesn\\'t have any duplicate or invalid values, and it does not exceed any of the blockchain\\'s protocol parameters. In particular, note that our previously chosen `MIN_LOVELACE` value of 2 ada is greater than the 1.120600 ada that the analysis tool says is needed. Thus, it is safe to execute any path in the contract."
   ]
  },
  {
   "cell_type": "markdown",
   "id": "fcbdcc02-7ffe-46a4-8732-10a3e7b93865",
   "metadata": {},
   "source": [
    "## Transaction 1. Create the Contract"
   ]
  },
  {
   "cell_type": "markdown",
   "id": "6fad0f1b-a918-4c56-867e-29600be217f4",
   "metadata": {},
   "source": [
    "Marlowe Runtime\\'s command `marlowe-runtime-cli create` will build the creation transaction for a Marlowe contract. We provide it the JSON file containing the contract and tell it the `MIN_LOVELACE` value that we previously chose. Anyone could create the contract, but in this example the lender will be doing so, so we provide their address to fund the transaction and to receive the change from it."
   ]
  },
  {
   "cell_type": "code",
   "execution_count": null,
   "id": "87672246-de07-4356-8cee-3692eeb36572",
   "metadata": {
    "tags": [],
    "vscode": {
     "languageId": "shellscript"
    }
   },
   "outputs": [],
   "source": [
    "marlowe-runtime-cli create --help"
   ]
  },
  {
   "cell_type": "code",
   "execution_count": 19,
   "id": "f8c85b72-afe2-460c-a48a-6e347ace520c",
   "metadata": {
    "tags": [],
    "vscode": {
     "languageId": "shellscript"
    }
   },
   "outputs": [
    {
     "name": "stdout",
     "output_type": "stream",
     "text": [
      "Safety analysis found no errors in the contract.\n",
      "CONTRACT_ID = da9881b963e1a996d738ce5b6e0e42103f56775d7c54a54931849478424e6262#1\n"
     ]
    }
   ],
   "source": [
    "CONTRACT_ID=$(\n",
    "marlowe-runtime-cli create \\\n",
    "  --core-file SimpleChoice-contract.json \\\n",
    "  --min-utxo \"$MIN_LOVELACE\" \\\n",
    "  --change-address \"$LENDER_ADDR\" \\\n",
    "  --manual-sign tx-1.unsigned \\\n",
    "| jq -r 'fromjson | .contractId' \\\n",
    ")\n",
    "echo \"CONTRACT_ID = $CONTRACT_ID\""
   ]
  },
  {
   "cell_type": "markdown",
   "id": "fb633e68-7177-44ac-a46b-009539093419",
   "metadata": {},
   "source": [
    "Marlowe Runtime uses the first (creation) UTxO of the contract to identify it throughout its lifecycle.\n",
    "\n",
    "The result of building the transaction is the identifier for the contract and the file `tx-1.unsigned`, which contains the Cardano unsigned transaction for creating the contract, in text-envelope format."
   ]
  },
  {
   "cell_type": "code",
   "execution_count": 20,
   "id": "43ddbc79-cc07-45e6-9266-aac7447b7fe3",
   "metadata": {
    "tags": [],
    "vscode": {
     "languageId": "shellscript"
    }
   },
   "outputs": [
    {
     "name": "stdout",
     "output_type": "stream",
     "text": [
      "cborHex: 86a40081825820cb40ef5d63c8372f0613e3e24bf928b1cc4c4cf0ff7021d43149a1147b5eeb45000182a200581d605717e995707dbd1a75d5e59d55ba2707d3407c9f5f1ec2a0476dba63011a364dc9aca300581d702ed2631dbb277c84334453c5c437b86325d371f0835a28b910a91a6e011a001e84800282005820e7300a2f74be2abd23cf6b5a2343d13a76777109efd19dda0dd513daec187eb7021a0002e5e10b5820548a907cc3dbea43bf1966551427c5698d76820adc2e42e4d5404850013db6039fff81d8799fd8799f40ffd8799fa1d8799fd8799fd87980d8799fd8799f581c5717e995707dbd1a75d5e59d55ba2707d3407c9f5f1ec2a0476dba63ffd87a80ffffd8799f4040ffff1a001e8480a0a000ffd87c9f9fd8799fd8799fd8799fd87980d8799fd8799f581c5717e995707dbd1a75d5e59d55ba2707d3407c9f5f1ec2a0476dba63ffd87a80ffffd8799fd87980d8799fd8799f581c5717e995707dbd1a75d5e59d55ba2707d3407c9f5f1ec2a0476dba63ffd87a80ffffd8799f4040ffd87a9f1a000f4240ffffd87c9f9fd8799fd87a9fd8799f4376616cd8799fd87980d8799fd8799f581c03fb0809a40decfa6b3542a6142c107bf744465be5ba92004e7239c0ffd87a80ffffff9fd8799f011b00000002540be400ffffffd87a9fd8799fd87980d8799fd8799f581c5717e995707dbd1a75d5e59d55ba2707d3407c9f5f1ec2a0476dba63ffd87a80ffffd8799fd8799fd87980d8799fd8799f581c5717e995707dbd1a75d5e59d55ba2707d3407c9f5f1ec2a0476dba63ffd87a80ffffffd8799f4040ffd87a9f1a000f4240ffd87980ffffff1b0000018b97718080d87980ffffff1b0000018b97718080d87980ffff80f5f6\n",
      "description: ''\n",
      "type: TxBodyBabbage\n"
     ]
    }
   ],
   "source": [
    "json2yaml tx-1.unsigned"
   ]
  },
  {
   "cell_type": "markdown",
   "id": "1f0d00de-4fd7-41bd-a933-170de9ef2688",
   "metadata": {},
   "source": [
    "There are many ways to sign and submit Cardano transactions:\n",
    "- `cardano-cli` at the command line\n",
    "- `cardano-wallet` at the command line or as a REST service\n",
    "- `cardano-hw-cli` for a hardware wallet at the command line\n",
    "- a Babbage-compatible CIP-30 wallet in a web browser\n",
    "- `marlowe-cli` at the command line\n",
    "- `marlowe-runtime-cli submit` at the command line (requires signing by a separate tool such as `cardano-cli`)\n",
    "\n",
    "For convenience, here we use `marlowe-cli transaction submit`. One may have to wait a minute or so for the transactions to be confirmed on the blockchain."
   ]
  },
  {
   "cell_type": "code",
   "execution_count": 21,
   "id": "ae1f6a5f-b4f7-452f-9d1b-f0545135deb5",
   "metadata": {
    "tags": [],
    "vscode": {
     "languageId": "shellscript"
    }
   },
   "outputs": [
    {
     "name": "stdout",
     "output_type": "stream",
     "text": [
      "submiting transaction...\n",
      "TX_1 = da9881b963e1a996d738ce5b6e0e42103f56775d7c54a54931849478424e6262\n"
     ]
    }
   ],
   "source": [
    "echo \"submiting transaction...\"\n",
    "TX_1=$(\n",
    "marlowe-cli transaction submit \\\n",
    "  --tx-body-file tx-1.unsigned \\\n",
    "  --required-signer \"$LENDER_SKEY\" \\\n",
    "  --timeout 600s \\\n",
    "| sed -e 's/^TxId \"\\(.*\\)\"$/\\1/' \\\n",
    ")\n",
    "echo \"TX_1 = $TX_1\""
   ]
  },
  {
   "cell_type": "markdown",
   "id": "aa349a31-4e44-42c9-8c3d-e910f195325d",
   "metadata": {},
   "source": [
    "One can view the transaction on a Cardano and Marlowe explorer. It sometimes takes thirty seconds or so for the transaction to be visible in an explorer."
   ]
  },
  {
   "cell_type": "code",
   "execution_count": 22,
   "id": "72115506-5bfd-480f-b3f0-47520dca84c1",
   "metadata": {
    "tags": [],
    "vscode": {
     "languageId": "shellscript"
    }
   },
   "outputs": [
    {
     "name": "stdout",
     "output_type": "stream",
     "text": [
      "Cardano Scan (low level)\n",
      "https://preprod.cardanoscan.io/transaction/da9881b963e1a996d738ce5b6e0e42103f56775d7c54a54931849478424e6262?tab=summary\n",
      "\n",
      "Marlowe Scan (high level)\n",
      "https://preprod.marlowescan.com/contractView?tab=info&contractId=da9881b963e1a996d738ce5b6e0e42103f56775d7c54a54931849478424e6262%231\n"
     ]
    }
   ],
   "source": [
    "echo \"Cardano Scan (low level)\"\n",
    "$SCRIPTS/cardano-scan-tx.sh $TX_1\n",
    "echo\n",
    "echo \"Marlowe Scan (high level)\"\n",
    "$SCRIPTS/marlowe-scan.sh $CONTRACT_ID"
   ]
  },
  {
   "cell_type": "markdown",
   "id": "3b3dae70-a556-4621-bab9-fd92b9f165eb",
   "metadata": {},
   "source": [
    "One can also examine the contract's UTxO using `cardano-cli`."
   ]
  },
  {
   "cell_type": "code",
   "execution_count": 23,
   "id": "c4af1000-9220-4f31-92e8-ee5eb405df0b",
   "metadata": {
    "tags": [],
    "vscode": {
     "languageId": "shellscript"
    }
   },
   "outputs": [
    {
     "name": "stdout",
     "output_type": "stream",
     "text": [
      "                           TxHash                                 TxIx        Amount\n",
      "--------------------------------------------------------------------------------------\n",
      "da9881b963e1a996d738ce5b6e0e42103f56775d7c54a54931849478424e6262     1        2000000 lovelace + TxOutDatumHash ScriptDataInBabbageEra \"e7300a2f74be2abd23cf6b5a2343d13a76777109efd19dda0dd513daec187eb7\"\n"
     ]
    }
   ],
   "source": [
    "cardano-cli query utxo --testnet-magic \"$CARDANO_TESTNET_MAGIC\" --tx-in \"$TX_1#1\""
   ]
  },
  {
   "cell_type": "markdown",
   "id": "c42fef94-fbf9-4208-90c3-3f93a2eb5290",
   "metadata": {},
   "source": [
    "## View the details of the contract on the blockchain\n",
    "\n",
    "Marlowe Runtime\\'s command `marlowe-runtime-cli log` can fetch a contract from the blockchain and print information about it."
   ]
  },
  {
   "cell_type": "code",
   "execution_count": 24,
   "id": "a753938c-92bb-43aa-bb13-d09a112939c6",
   "metadata": {
    "tags": [],
    "vscode": {
     "languageId": "shellscript"
    }
   },
   "outputs": [
    {
     "name": "stdout",
     "output_type": "stream",
     "text": [
      "\u001b[93mtransaction da9881b963e1a996d738ce5b6e0e42103f56775d7c54a54931849478424e6262 (creation)\n",
      "\u001b[0mContractId:      da9881b963e1a996d738ce5b6e0e42103f56775d7c54a54931849478424e6262#1\n",
      "SlotNo:          43084395\n",
      "BlockNo:         1542629\n",
      "BlockId:         732aca0e856328a6a6f84fd02ad59b909c3a155a1bf8f29eeba7e018aafd5832\n",
      "ScriptAddress:   addr_test1wqhdyccahvnheppng3fut3phhp3jt5m37zp4529ezz535ms2u9jqv\n",
      "Marlowe Version: 1\n",
      "\n",
      "    When [\n",
      "      (Case\n",
      "         (Deposit (Address \"addr_test1vpt306v4wp7m6xn46hje64d6yuraxsruna03as4qgakm5cc222sc0\") (Address \"addr_test1vpt306v4wp7m6xn46hje64d6yuraxsruna03as4qgakm5cc222sc0\")\n",
      "            (Token \"\" \"\")\n",
      "            (Constant 1000000))\n",
      "         (When [\n",
      "            (Case\n",
      "               (Choice\n",
      "                  (ChoiceId \"val\" (Address \"addr_test1vqplkzqf5sx7e7ntx4p2v9pvzpalw3zxt0jm4ysqfeernsqng4nkj\")) [\n",
      "                  (Bound 1 10000000000)])\n",
      "               (Pay (Address \"addr_test1vpt306v4wp7m6xn46hje64d6yuraxsruna03as4qgakm5cc222sc0\")\n",
      "                  (Account (Address \"addr_test1vpt306v4wp7m6xn46hje64d6yuraxsruna03as4qgakm5cc222sc0\"))\n",
      "                  (Token \"\" \"\")\n",
      "                  (Constant 1000000) Close))] 1699052880000 Close))] 1699052880000 Close\n",
      "\n"
     ]
    }
   ],
   "source": [
    "marlowe-runtime-cli log --show-contract \"$CONTRACT_ID\""
   ]
  },
  {
   "cell_type": "markdown",
   "id": "d44441bd-5679-498a-a4f0-156b7087a2b9",
   "metadata": {},
   "source": [
    "More detail can be retrieved using `marlowe-pipe`."
   ]
  },
  {
   "cell_type": "code",
   "execution_count": 25,
   "id": "2ea93a41-ad4a-4040-842a-6c2eec4ba4ae",
   "metadata": {
    "tags": [],
    "vscode": {
     "languageId": "shellscript"
    }
   },
   "outputs": [
    {
     "name": "stdout",
     "output_type": "stream",
     "text": [
      "creation:\n",
      "  output:\n",
      "    address: 702ed2631dbb277c84334453c5c437b86325d371f0835a28b910a91a6e\n",
      "    assets:\n",
      "      ada: 2000000\n",
      "      tokens: []\n",
      "    datum:\n",
      "      marloweContract:\n",
      "        timeout: 1699052880000\n",
      "        timeout_continuation: close\n",
      "        when:\n",
      "        - case:\n",
      "            deposits: 1000000\n",
      "            into_account:\n",
      "              address: addr_test1vpt306v4wp7m6xn46hje64d6yuraxsruna03as4qgakm5cc222sc0\n",
      "            of_token:\n",
      "              currency_symbol: ''\n",
      "              token_name: ''\n",
      "            party:\n",
      "              address: addr_test1vpt306v4wp7m6xn46hje64d6yuraxsruna03as4qgakm5cc222sc0\n",
      "          then:\n",
      "            timeout: 1699052880000\n",
      "            timeout_continuation: close\n",
      "            when:\n",
      "            - case:\n",
      "                choose_between:\n",
      "                - from: 1\n",
      "                  to: 10000000000\n",
      "                for_choice:\n",
      "                  choice_name: val\n",
      "                  choice_owner:\n",
      "                    address: addr_test1vqplkzqf5sx7e7ntx4p2v9pvzpalw3zxt0jm4ysqfeernsqng4nkj\n",
      "              then:\n",
      "                from_account:\n",
      "                  address: addr_test1vpt306v4wp7m6xn46hje64d6yuraxsruna03as4qgakm5cc222sc0\n",
      "                pay: 1000000\n",
      "                then: close\n",
      "                to:\n",
      "                  account:\n",
      "                    address: addr_test1vpt306v4wp7m6xn46hje64d6yuraxsruna03as4qgakm5cc222sc0\n",
      "                token:\n",
      "                  currency_symbol: ''\n",
      "                  token_name: ''\n",
      "      marloweParams:\n",
      "        rolesCurrency: ''\n",
      "      marloweState:\n",
      "        accounts:\n",
      "        - - - address: addr_test1vpt306v4wp7m6xn46hje64d6yuraxsruna03as4qgakm5cc222sc0\n",
      "            - currency_symbol: ''\n",
      "              token_name: ''\n",
      "          - 2000000\n",
      "        boundValues: []\n",
      "        choices: []\n",
      "        minTime: 0\n",
      "    utxo:\n",
      "      txId: da9881b963e1a996d738ce5b6e0e42103f56775d7c54a54931849478424e6262\n",
      "      txIx: 1\n",
      "  payoutValidatorHash: e165610232235bbbbeff5b998b233daae42979dec92a6722d9cda989\n",
      "response: info\n",
      "steps: []\n"
     ]
    }
   ],
   "source": [
    "echo '{\"request\" : \"get\", \"contractId\" : \"'\"$CONTRACT_ID\"'\"}' | marlowe-pipe 2> /dev/null | json2yaml"
   ]
  },
  {
   "cell_type": "markdown",
   "id": "cd4fa3da-0f75-4b96-a911-0ba5bea722f8",
   "metadata": {},
   "source": [
    "## Transaction 2. The lender deposits the principal\n",
    "\n",
    "The lender deposits their ada of principal into the contract using Marlowe Runtime\\'s `marlowe-runtime-cli deposit` command. The lender is providing the funding for and receiving the change from this transaction, so we provide their address. We provide the contract identifier and save the unsigned transaction in the file `tx-2.unsigned`."
   ]
  },
  {
   "cell_type": "code",
   "execution_count": null,
   "id": "bf42d7d0-be81-42a1-8da7-5ff07b9611ee",
   "metadata": {
    "tags": [],
    "vscode": {
     "languageId": "shellscript"
    }
   },
   "outputs": [],
   "source": [
    "marlowe-runtime-cli deposit --help"
   ]
  },
  {
   "cell_type": "code",
   "execution_count": 26,
   "id": "96e0b7b9-4816-46d3-ad2c-580dd7547b07",
   "metadata": {
    "tags": [],
    "vscode": {
     "languageId": "shellscript"
    }
   },
   "outputs": [
    {
     "name": "stdout",
     "output_type": "stream",
     "text": [
      "TX_2 = 0864ba37e6f15dbd8c02b9db1471d00de1868b24e9031528bad618df56f31869\n"
     ]
    }
   ],
   "source": [
    "TX_2=$(\n",
    "marlowe-runtime-cli deposit \\\n",
    "  --contract \"$CONTRACT_ID\" \\\n",
    "  --from-party \"$LENDER_ADDR\" \\\n",
    "  --to-party \"$LENDER_ADDR\" \\\n",
    "  --lovelace \"1000000\" \\\n",
    "  --change-address \"$LENDER_ADDR\" \\\n",
    "  --manual-sign tx-2.unsigned \\\n",
    "| jq -r 'fromjson | .txId' \\\n",
    ")\n",
    "echo \"TX_2 = $TX_2\""
   ]
  },
  {
   "cell_type": "markdown",
   "id": "d888ede9-b756-4ab4-bd8a-f9090870d8ca",
   "metadata": {},
   "source": [
    "Note that if the transaction would violate the logic of the Marlowe contract, one would receive an error message. For example, let\\'s say that we deposit the incorrect amount or deposit it to the wrong party\\'s internal account."
   ]
  },
  {
   "cell_type": "code",
   "execution_count": 16,
   "id": "28c51136-8e5a-483b-891a-e9345f1a6be5",
   "metadata": {
    "tags": [],
    "vscode": {
     "languageId": "shellscript"
    }
   },
   "outputs": [
    {
     "name": "stdout",
     "output_type": "stream",
     "text": [
      "ApplyFailed (ApplyInputsConstraintsBuildupFailed (MarloweComputeTransactionFailed \"TEApplyNoMatchError\"))\n"
     ]
    },
    {
     "ename": "",
     "evalue": "1",
     "output_type": "error",
     "traceback": []
    }
   ],
   "source": [
    "marlowe-runtime-cli deposit \\\n",
    "  --contract \"$CONTRACT_ID\" \\\n",
    "  --from-party \"$LENDER_ADDR\" \\\n",
    "  --to-party \"$LENDER_ADDR\" \\\n",
    "  --lovelace 80 \\\n",
    "  --change-address \"$LENDER_ADDR\" \\\n",
    "  --manual-sign /dev/null"
   ]
  },
  {
   "cell_type": "code",
   "execution_count": null,
   "id": "ab45188c-ab07-4918-96f2-79da42ab92f8",
   "metadata": {
    "tags": [],
    "vscode": {
     "languageId": "shellscript"
    }
   },
   "outputs": [],
   "source": [
    "marlowe-runtime-cli deposit \\\n",
    "  --contract \"$CONTRACT_ID\" \\\n",
    "  --from-party \"$LENDER_ADDR\" \\\n",
    "  --to-party \"$BORROWER_ADDR\" \\\n",
    "  --lovelace \"$PRINCIPAL\"\\\n",
    "  --change-address \"$LENDER_ADDR\" \\\n",
    "  --manual-sign /dev/null"
   ]
  },
  {
   "cell_type": "markdown",
   "id": "877807a1-7e62-4258-8d3c-b82664821dc9",
   "metadata": {},
   "source": [
    "Once again, use `marlowe-cli` to submit the transaction and then wait for confirmation."
   ]
  },
  {
   "cell_type": "code",
   "execution_count": 27,
   "id": "bb1b0e65-3cf7-42e1-9495-ce45007e331a",
   "metadata": {
    "tags": [],
    "vscode": {
     "languageId": "shellscript"
    }
   },
   "outputs": [
    {
     "name": "stdout",
     "output_type": "stream",
     "text": [
      "submiting transaction...\n",
      "TxId \"0864ba37e6f15dbd8c02b9db1471d00de1868b24e9031528bad618df56f31869\"\n"
     ]
    }
   ],
   "source": [
    "echo \"submiting transaction...\"\n",
    "marlowe-cli transaction submit \\\n",
    "  --tx-body-file tx-2.unsigned \\\n",
    "  --required-signer \"$LENDER_SKEY\" \\\n",
    "  --timeout 600s"
   ]
  },
  {
   "cell_type": "markdown",
   "id": "eed6b35f-7aa9-4266-98d2-ac7320ccaf69",
   "metadata": {},
   "source": [
    "One can view the transaction on a Cardano explorer. It sometimes takes thirty seconds or so for the transaction to be visible in an explorer."
   ]
  },
  {
   "cell_type": "code",
   "execution_count": 28,
   "id": "bb813544-092a-4831-bff5-5ea7ce8a9259",
   "metadata": {
    "tags": [],
    "vscode": {
     "languageId": "shellscript"
    }
   },
   "outputs": [
    {
     "name": "stdout",
     "output_type": "stream",
     "text": [
      "Cardano Scan (low level)\n",
      "https://preprod.cardanoscan.io/transaction/0864ba37e6f15dbd8c02b9db1471d00de1868b24e9031528bad618df56f31869?tab=summary\n",
      "\n",
      "Marlowe Scan (high level)\n",
      "https://preprod.marlowescan.com/contractView?tab=info&contractId=da9881b963e1a996d738ce5b6e0e42103f56775d7c54a54931849478424e6262%231\n"
     ]
    }
   ],
   "source": [
    "echo \"Cardano Scan (low level)\"\n",
    "$SCRIPTS/cardano-scan-tx.sh $TX_2\n",
    "echo\n",
    "echo \"Marlowe Scan (high level)\"\n",
    "$SCRIPTS/marlowe-scan.sh $CONTRACT_ID"
   ]
  },
  {
   "cell_type": "code",
   "execution_count": 29,
   "id": "b45dc15d-f54f-49cb-a36d-0524f47fd70e",
   "metadata": {
    "tags": [],
    "vscode": {
     "languageId": "shellscript"
    }
   },
   "outputs": [
    {
     "name": "stdout",
     "output_type": "stream",
     "text": [
      "Lender:\n",
      "https://preprod.cardanoscan.io/address/addr_test1vpt306v4wp7m6xn46hje64d6yuraxsruna03as4qgakm5cc222sc0\n",
      "\n",
      "                           TxHash                                 TxIx        Amount\n",
      "--------------------------------------------------------------------------------------\n",
      "0864ba37e6f15dbd8c02b9db1471d00de1868b24e9031528bad618df56f31869     0        909477501 lovelace + TxOutDatumNone\n",
      "2eaf02fbaeca4386fe1d07c8b268e0e0ef4048d5d53c514de33cf397190b5847     4        1034400 lovelace + 1 f94962a6a0edb937ae7b606053667e82416207854cb9f2f4418d4654.53656c6c6572 + TxOutDatumNone\n",
      "6074069fd35c5626aa985460c04dc1da05857ac0a6a3e3a9fcaff39abc841522     1        2000000 lovelace + TxOutDatumNone\n",
      "b6f45988e23c9b6f056797dba438d4930eae4d4e32e2484c2d413472f7d57edb     1        3000000 lovelace + TxOutDatumNone\n",
      "e309632b0cf088c428bf4be8a1c65cbe83b02961468d95f5c8b7cc60022cd97d     0        55259678 lovelace + TxOutDatumNone\n",
      "f57ee7a4e8707b8df9798357a2e5b0d811e67ae658c6f751e816d8a82c340220     0        8221879 lovelace + TxOutDatumNone\n",
      "f73fb7271844f7756c39a2a3210b91e5309762ee029f2ae6dfeb3a6492068826     0        8221879 lovelace + TxOutDatumNone\n"
     ]
    }
   ],
   "source": [
    "echo \"Lender:\"\n",
    "$SCRIPTS/cardano-scan-address.sh $LENDER_ADDR\n",
    "echo\n",
    "cardano-cli query utxo --testnet-magic \"$CARDANO_TESTNET_MAGIC\" --address \"$LENDER_ADDR\""
   ]
  },
  {
   "cell_type": "markdown",
   "id": "3eb0d02e-c30c-4845-86b5-602c2279b518",
   "metadata": {},
   "source": [
    "## View the further progress of the contract on the blockchain\n",
    "\n",
    "Marlowe Runtime\\'s command `marlowe-runtime-cli log` can fetch a contract from the blockchain and print information about it."
   ]
  },
  {
   "cell_type": "code",
   "execution_count": 30,
   "id": "e0461725-7f2b-4256-ac83-8e681ecb3e35",
   "metadata": {
    "tags": [],
    "vscode": {
     "languageId": "shellscript"
    }
   },
   "outputs": [
    {
     "name": "stdout",
     "output_type": "stream",
     "text": [
      "\u001b[93mtransaction da9881b963e1a996d738ce5b6e0e42103f56775d7c54a54931849478424e6262 (creation)\n",
      "\u001b[0mContractId:      da9881b963e1a996d738ce5b6e0e42103f56775d7c54a54931849478424e6262#1\n",
      "SlotNo:          43084395\n",
      "BlockNo:         1542629\n",
      "BlockId:         732aca0e856328a6a6f84fd02ad59b909c3a155a1bf8f29eeba7e018aafd5832\n",
      "ScriptAddress:   addr_test1wqhdyccahvnheppng3fut3phhp3jt5m37zp4529ezz535ms2u9jqv\n",
      "Marlowe Version: 1\n",
      "\n",
      "    When [\n",
      "      (Case\n",
      "         (Deposit (Address \"addr_test1vpt306v4wp7m6xn46hje64d6yuraxsruna03as4qgakm5cc222sc0\") (Address \"addr_test1vpt306v4wp7m6xn46hje64d6yuraxsruna03as4qgakm5cc222sc0\")\n",
      "            (Token \"\" \"\")\n",
      "            (Constant 1000000))\n",
      "         (When [\n",
      "            (Case\n",
      "               (Choice\n",
      "                  (ChoiceId \"val\" (Address \"addr_test1vqplkzqf5sx7e7ntx4p2v9pvzpalw3zxt0jm4ysqfeernsqng4nkj\")) [\n",
      "                  (Bound 1 10000000000)])\n",
      "               (Pay (Address \"addr_test1vpt306v4wp7m6xn46hje64d6yuraxsruna03as4qgakm5cc222sc0\")\n",
      "                  (Account (Address \"addr_test1vpt306v4wp7m6xn46hje64d6yuraxsruna03as4qgakm5cc222sc0\"))\n",
      "                  (Token \"\" \"\")\n",
      "                  (Constant 1000000) Close))] 1699052880000 Close))] 1699052880000 Close\n",
      "\n",
      "\u001b[93mtransaction 0864ba37e6f15dbd8c02b9db1471d00de1868b24e9031528bad618df56f31869\n",
      "\u001b[0mContractId: da9881b963e1a996d738ce5b6e0e42103f56775d7c54a54931849478424e6262#1\n",
      "SlotNo:     43084658\n",
      "BlockNo:    1542639\n",
      "BlockId:    41f8a645d36641a53187d27472e3ca646b123a486ad701b5d1021e0b2e54ed91\n",
      "Inputs:     [NormalInput (IDeposit \"\\\"addr_test1vpt306v4wp7m6xn46hje64d6yuraxsruna03as4qgakm5cc222sc0\\\"\" \"\\\"addr_test1vpt306v4wp7m6xn46hje64d6yuraxsruna03as4qgakm5cc222sc0\\\"\" (Token \"\" \"\") 1000000)]\n",
      "\n",
      "    When [\n",
      "      (Case\n",
      "         (Choice\n",
      "            (ChoiceId \"val\" (Address \"addr_test1vqplkzqf5sx7e7ntx4p2v9pvzpalw3zxt0jm4ysqfeernsqng4nkj\")) [\n",
      "            (Bound 1 10000000000)])\n",
      "         (Pay (Address \"addr_test1vpt306v4wp7m6xn46hje64d6yuraxsruna03as4qgakm5cc222sc0\")\n",
      "            (Account (Address \"addr_test1vpt306v4wp7m6xn46hje64d6yuraxsruna03as4qgakm5cc222sc0\"))\n",
      "            (Token \"\" \"\")\n",
      "            (Constant 1000000) Close))] 1699052880000 Close\n",
      "\n"
     ]
    }
   ],
   "source": [
    "marlowe-runtime-cli log --show-contract \"$CONTRACT_ID\""
   ]
  },
  {
   "cell_type": "markdown",
   "id": "488eb566-c1d7-49a5-91bd-09922aa8493c",
   "metadata": {},
   "source": [
    "More detail can be retrieved using `marlowe-pipe`."
   ]
  },
  {
   "cell_type": "code",
   "execution_count": 31,
   "id": "d373efd1-9947-4ce9-837e-ba0796d89146",
   "metadata": {
    "tags": [],
    "vscode": {
     "languageId": "shellscript"
    }
   },
   "outputs": [
    {
     "name": "stdout",
     "output_type": "stream",
     "text": [
      "creation:\n",
      "  output:\n",
      "    address: 702ed2631dbb277c84334453c5c437b86325d371f0835a28b910a91a6e\n",
      "    assets:\n",
      "      ada: 2000000\n",
      "      tokens: []\n",
      "    datum:\n",
      "      marloweContract:\n",
      "        timeout: 1699052880000\n",
      "        timeout_continuation: close\n",
      "        when:\n",
      "        - case:\n",
      "            deposits: 1000000\n",
      "            into_account:\n",
      "              address: addr_test1vpt306v4wp7m6xn46hje64d6yuraxsruna03as4qgakm5cc222sc0\n",
      "            of_token:\n",
      "              currency_symbol: ''\n",
      "              token_name: ''\n",
      "            party:\n",
      "              address: addr_test1vpt306v4wp7m6xn46hje64d6yuraxsruna03as4qgakm5cc222sc0\n",
      "          then:\n",
      "            timeout: 1699052880000\n",
      "            timeout_continuation: close\n",
      "            when:\n",
      "            - case:\n",
      "                choose_between:\n",
      "                - from: 1\n",
      "                  to: 10000000000\n",
      "                for_choice:\n",
      "                  choice_name: val\n",
      "                  choice_owner:\n",
      "                    address: addr_test1vqplkzqf5sx7e7ntx4p2v9pvzpalw3zxt0jm4ysqfeernsqng4nkj\n",
      "              then:\n",
      "                from_account:\n",
      "                  address: addr_test1vpt306v4wp7m6xn46hje64d6yuraxsruna03as4qgakm5cc222sc0\n",
      "                pay: 1000000\n",
      "                then: close\n",
      "                to:\n",
      "                  account:\n",
      "                    address: addr_test1vpt306v4wp7m6xn46hje64d6yuraxsruna03as4qgakm5cc222sc0\n",
      "                token:\n",
      "                  currency_symbol: ''\n",
      "                  token_name: ''\n",
      "      marloweParams:\n",
      "        rolesCurrency: ''\n",
      "      marloweState:\n",
      "        accounts:\n",
      "        - - - address: addr_test1vpt306v4wp7m6xn46hje64d6yuraxsruna03as4qgakm5cc222sc0\n",
      "            - currency_symbol: ''\n",
      "              token_name: ''\n",
      "          - 2000000\n",
      "        boundValues: []\n",
      "        choices: []\n",
      "        minTime: 0\n",
      "    utxo:\n",
      "      txId: da9881b963e1a996d738ce5b6e0e42103f56775d7c54a54931849478424e6262\n",
      "      txIx: 1\n",
      "  payoutValidatorHash: e165610232235bbbbeff5b998b233daae42979dec92a6722d9cda989\n",
      "response: info\n",
      "steps:\n",
      "- contractId: da9881b963e1a996d738ce5b6e0e42103f56775d7c54a54931849478424e6262#1\n",
      "  payouts: []\n",
      "  redeemer:\n",
      "  - input_from_party:\n",
      "      address: addr_test1vpt306v4wp7m6xn46hje64d6yuraxsruna03as4qgakm5cc222sc0\n",
      "    into_account:\n",
      "      address: addr_test1vpt306v4wp7m6xn46hje64d6yuraxsruna03as4qgakm5cc222sc0\n",
      "    of_token:\n",
      "      currency_symbol: ''\n",
      "      token_name: ''\n",
      "    that_deposits: 1000000\n",
      "  scriptOutput:\n",
      "    address: 702ed2631dbb277c84334453c5c437b86325d371f0835a28b910a91a6e\n",
      "    assets:\n",
      "      ada: 3000000\n",
      "      tokens: []\n",
      "    datum:\n",
      "      marloweContract:\n",
      "        timeout: 1699052880000\n",
      "        timeout_continuation: close\n",
      "        when:\n",
      "        - case:\n",
      "            choose_between:\n",
      "            - from: 1\n",
      "              to: 10000000000\n",
      "            for_choice:\n",
      "              choice_name: val\n",
      "              choice_owner:\n",
      "                address: addr_test1vqplkzqf5sx7e7ntx4p2v9pvzpalw3zxt0jm4ysqfeernsqng4nkj\n",
      "          then:\n",
      "            from_account:\n",
      "              address: addr_test1vpt306v4wp7m6xn46hje64d6yuraxsruna03as4qgakm5cc222sc0\n",
      "            pay: 1000000\n",
      "            then: close\n",
      "            to:\n",
      "              account:\n",
      "                address: addr_test1vpt306v4wp7m6xn46hje64d6yuraxsruna03as4qgakm5cc222sc0\n",
      "            token:\n",
      "              currency_symbol: ''\n",
      "              token_name: ''\n",
      "      marloweParams:\n",
      "        rolesCurrency: ''\n",
      "      marloweState:\n",
      "        accounts:\n",
      "        - - - address: addr_test1vpt306v4wp7m6xn46hje64d6yuraxsruna03as4qgakm5cc222sc0\n",
      "            - currency_symbol: ''\n",
      "              token_name: ''\n",
      "          - 3000000\n",
      "        boundValues: []\n",
      "        choices: []\n",
      "        minTime: 1698767771000\n",
      "    utxo:\n",
      "      txId: 0864ba37e6f15dbd8c02b9db1471d00de1868b24e9031528bad618df56f31869\n",
      "      txIx: 1\n",
      "  step: apply\n",
      "  txId: 0864ba37e6f15dbd8c02b9db1471d00de1868b24e9031528bad618df56f31869\n"
     ]
    }
   ],
   "source": [
    "echo '{\"request\" : \"get\", \"contractId\" : \"'\"$CONTRACT_ID\"'\"}' | marlowe-pipe 2> /dev/null | json2yaml"
   ]
  },
  {
   "cell_type": "markdown",
   "id": "9f233f15",
   "metadata": {},
   "source": [
    "Or via the Marlowe SCAN"
   ]
  },
  {
   "cell_type": "code",
   "execution_count": 32,
   "id": "075211f6",
   "metadata": {
    "scrolled": true,
    "tags": [],
    "vscode": {
     "languageId": "shellscript"
    }
   },
   "outputs": [
    {
     "name": "stdout",
     "output_type": "stream",
     "text": [
      "https://preprod.marlowescan.com/contractView?tab=info&contractId=da9881b963e1a996d738ce5b6e0e42103f56775d7c54a54931849478424e6262%231\n"
     ]
    }
   ],
   "source": [
    "$SCRIPTS/marlowe-scan.sh $CONTRACT_ID"
   ]
  },
  {
   "cell_type": "markdown",
   "id": "15350dcf",
   "metadata": {},
   "source": [
    "## Choice transaction"
   ]
  },
  {
   "cell_type": "code",
   "execution_count": 33,
   "id": "9659395e",
   "metadata": {},
   "outputs": [
    {
     "name": "stdout",
     "output_type": "stream",
     "text": [
      "for_choice_id:\n",
      "  choice_name: val\n",
      "  choice_owner:\n",
      "    address: addr_test1vqplkzqf5sx7e7ntx4p2v9pvzpalw3zxt0jm4ysqfeernsqng4nkj\n",
      "input_that_chooses_num: 2\n"
     ]
    }
   ],
   "source": [
    "marlowe-cli input choose \\\n",
    "  --choice-name \"val\" \\\n",
    "  --choice-party \"addr_test1vqplkzqf5sx7e7ntx4p2v9pvzpalw3zxt0jm4ysqfeernsqng4nkj\"\\\n",
    "  --choice-number 2 \\\n",
    "  --out-file marlowe-4.json\n",
    "json2yaml marlowe-4.json"
   ]
  },
  {
   "cell_type": "code",
   "execution_count": 34,
   "id": "74f65f8d",
   "metadata": {},
   "outputs": [
    {
     "name": "stdout",
     "output_type": "stream",
     "text": [
      "\u001b[1;39m{\n",
      "  \u001b[0m\u001b[34;1m\"inputs\"\u001b[0m\u001b[1;39m: \u001b[0m\u001b[1;39m[\n",
      "    \u001b[1;39m{\n",
      "      \u001b[0m\u001b[34;1m\"for_choice_id\"\u001b[0m\u001b[1;39m: \u001b[0m\u001b[1;39m{\n",
      "        \u001b[0m\u001b[34;1m\"choice_name\"\u001b[0m\u001b[1;39m: \u001b[0m\u001b[0;32m\"val\"\u001b[0m\u001b[1;39m,\n",
      "        \u001b[0m\u001b[34;1m\"choice_owner\"\u001b[0m\u001b[1;39m: \u001b[0m\u001b[1;39m{\n",
      "          \u001b[0m\u001b[34;1m\"address\"\u001b[0m\u001b[1;39m: \u001b[0m\u001b[0;32m\"addr_test1vqplkzqf5sx7e7ntx4p2v9pvzpalw3zxt0jm4ysqfeernsqng4nkj\"\u001b[0m\u001b[1;39m\n",
      "        \u001b[1;39m}\u001b[0m\u001b[1;39m\n",
      "      \u001b[1;39m}\u001b[0m\u001b[1;39m,\n",
      "      \u001b[0m\u001b[34;1m\"input_that_chooses_num\"\u001b[0m\u001b[1;39m: \u001b[0m\u001b[0;39m2\u001b[0m\u001b[1;39m\n",
      "    \u001b[1;39m}\u001b[0m\u001b[1;39m\n",
      "  \u001b[1;39m]\u001b[0m\u001b[1;39m,\n",
      "  \u001b[0m\u001b[34;1m\"metadata\"\u001b[0m\u001b[1;39m: \u001b[0m\u001b[1;39m{}\u001b[0m\u001b[1;39m,\n",
      "  \u001b[0m\u001b[34;1m\"tags\"\u001b[0m\u001b[1;39m: \u001b[0m\u001b[1;39m{}\u001b[0m\u001b[1;39m,\n",
      "  \u001b[0m\u001b[34;1m\"version\"\u001b[0m\u001b[1;39m: \u001b[0m\u001b[0;32m\"v1\"\u001b[0m\u001b[1;39m\n",
      "\u001b[1;39m}\u001b[0m\n"
     ]
    }
   ],
   "source": [
    "yaml2json << EOI > request-4.json\n",
    "version: v1\n",
    "inputs: [$(cat marlowe-4.json)]\n",
    "metadata: {}\n",
    "tags: {}\n",
    "EOI\n",
    "cat request-4.json | jq"
   ]
  },
  {
   "cell_type": "markdown",
   "id": "04fcdcb5",
   "metadata": {},
   "source": [
    "da9881b963e1a996d738ce5b6e0e42103f56775d7c54a54931849478424e6262%231\n",
    "http://web-server:3780/contracts/\n",
    "\n",
    "http://web-server:3780/contracts/da9881b963e1a996d738ce5b6e0e42103f56775d7c54a54931849478424e6262%231\n",
    "\n",
    "The following code is not workingm \"#1\" needs to be removed, for the moment the URL is included manually"
   ]
  },
  {
   "cell_type": "code",
   "execution_count": 51,
   "id": "4c84e802",
   "metadata": {},
   "outputs": [
    {
     "name": "stdout",
     "output_type": "stream",
     "text": [
      "da9881b963e1a996d738ce5b6e0e42103f56775d7c54a54931849478424e6262#1\n",
      "http://web-server:3780/contracts/da9881b963e1a996d738ce5b6e0e42103f56775d7c54a54931849478424e6262#1%231+/transactions\n"
     ]
    }
   ],
   "source": [
    "echo $CONTRACT_ID\n",
    "MARLOWE_URL='http://web-server:3780/contracts/'$CONTRACT_ID'%231'+'/transactions'\n",
    "echo $MARLOWE_URL"
   ]
  },
  {
   "cell_type": "code",
   "execution_count": 53,
   "id": "0a6f3e57",
   "metadata": {},
   "outputs": [
    {
     "name": "stdout",
     "output_type": "stream",
     "text": [
      "links:\n",
      "  transaction: contracts/da9881b963e1a996d738ce5b6e0e42103f56775d7c54a54931849478424e6262%231/transactions/c4a312d601fbd614e191873362c9dac187ab4d94f35ff6d9bbb986ec88aeef47\n",
      "resource:\n",
      "  contractId: da9881b963e1a996d738ce5b6e0e42103f56775d7c54a54931849478424e6262#1\n",
      "  transactionId: c4a312d601fbd614e191873362c9dac187ab4d94f35ff6d9bbb986ec88aeef47\n",
      "  txBody:\n",
      "    cborHex: 86ab00828258200864ba37e6f15dbd8c02b9db1471d00de1868b24e9031528bad618df56f3186901825820b6f45988e23c9b6f056797dba438d4930eae4d4e32e2484c2d413472f7d57edb000d81825820b6f45988e23c9b6f056797dba438d4930eae4d4e32e2484c2d413472f7d57edb0012818258209a8a6f387a3330b4141e1cb019380b9ac5c72151c0abc52aa4266245d3c555cd010182a200581d6003fb0809a40decfa6b3542a6142c107bf744465be5ba92004e7239c0011a3b3651fda200581d605717e995707dbd1a75d5e59d55ba2707d3407c9f5f1ec2a0476dba63011a002dc6c010a200581d6003fb0809a40decfa6b3542a6142c107bf744465be5ba92004e7239c0011a3b327db7111a000b7cd2021a0007a88c031a02947f7f081a029177390e81581c03fb0809a40decfa6b3542a6142c107bf744465be5ba92004e7239c00b5820355b06f189a9d073a7a4b82e1a0a2652ac4afddf2689c7d210affb3f9f8a5d0f9fff81d8799fd8799f40ffd8799fa1d8799fd8799fd87980d8799fd8799f581c5717e995707dbd1a75d5e59d55ba2707d3407c9f5f1ec2a0476dba63ffd87a80ffffd8799f4040ffff1a002dc6c0a0a01b0000018b86731578ffd87c9f9fd8799fd87a9fd8799f4376616cd8799fd87980d8799fd8799f581c03fb0809a40decfa6b3542a6142c107bf744465be5ba92004e7239c0ffd87a80ffffff9fd8799f011b00000002540be400ffffffd87a9fd8799fd87980d8799fd8799f581c5717e995707dbd1a75d5e59d55ba2707d3407c9f5f1ec2a0476dba63ffd87a80ffffd8799fd8799fd87980d8799fd8799f581c5717e995707dbd1a75d5e59d55ba2707d3407c9f5f1ec2a0476dba63ffd87a80ffffffd8799f4040ffd87a9f1a000f4240ffd87980ffffff1b0000018b97718080d87980ffff818400009fd8799fd87a9fd8799f4376616cd8799fd87980d8799fd8799f581c03fb0809a40decfa6b3542a6142c107bf744465be5ba92004e7239c0ffd87a80ffffff02ffffff821a003afd9a1a3dadf932f5f6\n",
      "    description: ''\n",
      "    type: TxBodyBabbage\n"
     ]
    }
   ],
   "source": [
    "curl \"http://web-server:3780/contracts/da9881b963e1a996d738ce5b6e0e42103f56775d7c54a54931849478424e6262%231/transactions\" \\\n",
    "  -X POST \\\n",
    "  -H 'Content-Type: application/json' \\\n",
    "  -H \"X-Change-Address: $MEDIATOR_ADDR\" \\\n",
    "  -d @request-4.json \\\n",
    "  -o response-4.json \\\n",
    "  -sS\n",
    "json2yaml response-4.json"
   ]
  },
  {
   "cell_type": "code",
   "execution_count": 54,
   "id": "20db6d69",
   "metadata": {},
   "outputs": [
    {
     "name": "stdout",
     "output_type": "stream",
     "text": [
      "4.0K\ttx-4.unsigned\n"
     ]
    }
   ],
   "source": [
    "jq '.resource.txBody' response-4.json > tx-4.unsigned\n",
    "du -hs  tx-4.unsigned"
   ]
  },
  {
   "cell_type": "code",
   "execution_count": 55,
   "id": "14ae9e70",
   "metadata": {},
   "outputs": [
    {
     "name": "stdout",
     "output_type": "stream",
     "text": [
      "submiting transaction...\n",
      "TX_4 = c4a312d601fbd614e191873362c9dac187ab4d94f35ff6d9bbb986ec88aeef47\n"
     ]
    }
   ],
   "source": [
    "echo \"submiting transaction...\"\n",
    "TX_4=$(\n",
    "marlowe-cli transaction submit \\\n",
    "  --tx-body-file tx-4.unsigned \\\n",
    "  --required-signer \"$MEDIATOR_SKEY\" \\\n",
    "  --timeout 600s \\\n",
    "| sed -e 's/^TxId \"\\(.*\\)\"$/\\1/' \\\n",
    ")\n",
    "echo \"TX_4 = $TX_4\""
   ]
  },
  {
   "cell_type": "markdown",
   "id": "8b4951f7-58bb-4399-a09a-2029f4e2dfe4",
   "metadata": {},
   "source": [
    "Once the choice is submited the contract ends and 3 ada are returned to the Lender(2 drom the contract creation and one from the premium deposit)"
   ]
  },
  {
   "cell_type": "code",
   "execution_count": null,
   "id": "03330ca5",
   "metadata": {},
   "outputs": [],
   "source": []
  }
 ],
 "metadata": {
  "kernelspec": {
   "display_name": "Bash with Marlowe Tools",
   "language": "bash",
   "name": "bash-minimal"
  },
  "language_info": {
   "codemirror_mode": "shell",
   "file_extension": ".sh",
   "mimetype": "text/x-sh",
   "name": "bash"
  }
 },
 "nbformat": 4,
 "nbformat_minor": 5
}
