{
 "cells": [
  {
   "cell_type": "markdown",
   "id": "caa144a8-d3d7-42de-bfdd-8b27cf4c5cbe",
   "metadata": {
    "tags": [],
    "vscode": {
     "languageId": "shellscript"
    }
   },
   "source": [
    "# Simple Bet Using Marlowe Runtime\\'s Command-Line Interface\n",
    "\n",
    "***Before running this notebook, you might want to use Jupyter's \"clear output\" function to erase the results of the previous execution of this notebook. That will make more apparent what has been executed in the current session.***\n",
    "\n",
    "(change)The zero-coupon bond example is a simple Marlowe contract where a lender provides principal to a borrower who repays it back with interest.\n",
    "\n",
    "In this demonsration we use Marlowe Runtime\\'s command-line interface, `marlowe-runtime-cli`, to run this contract on Cardano\\'s `preprod` public testnet. Marlowe contracts may use either addresses or role tokens for authorization: here we use addresses.\n",
    "\n",
    "You can ask questions about Marlowe in [the #ask-marlowe channel on the IOG Discord](https://discord.com/channels/826816523368005654/936295815926927390) or post problems with this lesson to [the issues list for the Marlowe Starter Kit github repository](https://github.com/input-output-hk/marlowe-starter-kit/issues).\n",
    "\n",
    "In [Marlowe Playground](https://play.marlowe.iohk.io//), the contract looks like this in Blockly format.\n",
    "\n",
    "![Zero-coupon bond Marlowe contract](../../images/01-zcb-contract.png)\n",
    "\n",
    "In Marlowe format it appears as\n",
    "```\n",
    "When\n",
    "    [Case\n",
    "        (Deposit\n",
    "            (Address \"$LENDER_ADDR\")\n",
    "            (Address \"$LENDER_ADDR\")\n",
    "            (Token \"\" \"\")\n",
    "            (ConstantParam \"$PRINCIPAL\")\n",
    "        )\n",
    "        (Pay\n",
    "            (Address \"$LENDER_ADDR\")\n",
    "            (Party (Address \"$BORROWER_ADDR\"))\n",
    "            (Token \"\" \"\")\n",
    "            (ConstantParam \"$PRINCIPAL\")\n",
    "            (When\n",
    "                [Case\n",
    "                    (Deposit\n",
    "                        (Address \"$BORROWER_ADDR\")\n",
    "                        (Address \"$BORROWER_ADDR\")\n",
    "                        (Token \"\" \"\")\n",
    "                        (AddValue\n",
    "                            (ConstantParam \"$INTEREST\")\n",
    "                            (ConstantParam \"$PRINCIPAL\")\n",
    "                        )\n",
    "                    )\n",
    "                    (Pay\n",
    "                        (Address \"$BORROWER_ADDR\")\n",
    "                        (Party (Address \"$LENDER_ADDR\"))\n",
    "                        (Token \"\" \"\")\n",
    "                        (AddValue\n",
    "                            (ConstantParam \"$INTEREST\")\n",
    "                            (ConstantParam \"$PRINCIPAL\")\n",
    "                        )\n",
    "                        Close \n",
    "                    )]\n",
    "                (TimeParam \"$BORROWER_DEADLINE\")\n",
    "                Close \n",
    "            )\n",
    "        )]\n",
    "    (TimeParam \"$LENDER_DEADLINE\")\n",
    "    Close \n",
    "```"
   ]
  },
  {
   "cell_type": "markdown",
   "id": "b94d119b-6a78-4972-83be-bede23021187",
   "metadata": {},
   "source": [
    "## Preliminaries\n",
    "\n",
    "See [Preliminaries](../../docs/preliminaries.md) for information on setting up one's environment for using this tutorial.\n",
    "\n",
    "The first step is to check we have all the required tools and environment variables available to the notebook. "
   ]
  },
  {
   "cell_type": "code",
   "execution_count": 1,
   "id": "767c5145",
   "metadata": {
    "tags": [],
    "vscode": {
     "languageId": "shellscript"
    }
   },
   "outputs": [
    {
     "name": "stdout",
     "output_type": "stream",
     "text": [
      "########################\n",
      "## Check CLI commands ##\n",
      "########################\n",
      "\n",
      "The following required programs are available in the shell:\n",
      "  * jq\n",
      "  * json2yaml\n",
      "  * marlowe-cli\n",
      "  * marlowe-runtime-cli\n",
      "  * cardano-cli\n",
      "  * cardano-address\n",
      "  * cardano-wallet\n",
      "\n",
      "#########################\n",
      "## Check required envs ##\n",
      "#########################\n",
      "\n",
      "The following environment variables are available in the shell:\n",
      "  * CARDANO_NODE_SOCKET_PATH = /ipc/node.socket\n",
      "  * MARLOWE_RT_HOST = proxy\n",
      "  * MARLOWE_RT_PORT = 3700\n",
      "  * MARLOWE_RT_WEBSERVER_HOST = web-server\n",
      "  * MARLOWE_RT_WEBSERVER_PORT = 3780\n",
      "  * MARLOWE_RT_WEBSERVER_URL = http://web-server:3780\n",
      "  * FAUCET_ADDR = addr_test1vr847d0c4w0zhzk24jptvkuunyz0mhhx4d2m8t7khk4a3fcfr09pw\n",
      "  * FAUCET_SKEY = ../../keys/faucet.skey\n",
      "\n",
      "###################\n",
      "## Check Network ##\n",
      "###################\n",
      "\n",
      "The NETWORK is set to preprod\n",
      "CARDANO_TESTNET_MAGIC = 1\n",
      "CARDANO_SCAN_URL = https://preprod.cardanoscan.io\n",
      "MARLOWE_SCAN_URL = https://preprod.marlowescan.com\n"
     ]
    }
   ],
   "source": [
    "export SCRIPTS=../../scripts\n",
    "export KEYS=../../keys\n",
    "source $SCRIPTS/check-tools-and-env.sh"
   ]
  },
  {
   "cell_type": "markdown",
   "id": "a8ce1b86",
   "metadata": {},
   "source": [
    "Make sure you've also [setup and funded](../../setup/01-setup-keys.ipynb) the different parties\n",
    "\n",
    "- Lender\n",
    "    - \\$KEYS/lender.address: Cardano address for the lender\n",
    "    - \\$KEYS/lender.skey: location of signing key file for the lender\n",
    "- Borrower\n",
    "    - \\$KEYS/borrower.address: Cardano address for the borrower\n",
    "    - \\$KEYS/borrower.skey: location of signing key file for the borrower"
   ]
  },
  {
   "cell_type": "markdown",
   "id": "6699e48f-cdb4-4532-9760-b080724142ef",
   "metadata": {
    "tags": [],
    "vscode": {
     "languageId": "shellscript"
    }
   },
   "source": [
    "### Lender address and funds\n",
    "\n",
    "Check that an address and key has been created for the lender. If not, see \"Creating Addresses and Signing Keys\" in [setup/01-setup-keys.ipynb](../../setup/01-setup-keys.ipynb)."
   ]
  },
  {
   "cell_type": "code",
   "execution_count": 2,
   "id": "c7def6b8-c617-4049-872f-4974755d0cb0",
   "metadata": {
    "tags": [],
    "vscode": {
     "languageId": "shellscript"
    }
   },
   "outputs": [
    {
     "name": "stdout",
     "output_type": "stream",
     "text": [
      "LENDER_ADDR = addr_test1vpt306v4wp7m6xn46hje64d6yuraxsruna03as4qgakm5cc222sc0\n"
     ]
    }
   ],
   "source": [
    "LENDER_SKEY=$KEYS/lender.skey\n",
    "LENDER_ADDR=$(cat $KEYS/lender.address)\n",
    "echo \"LENDER_ADDR = $LENDER_ADDR\""
   ]
  },
  {
   "cell_type": "markdown",
   "id": "31614d3b-10c1-4704-b49a-82aa924cba23",
   "metadata": {},
   "source": [
    "Check that the lender has at least one hundred ada."
   ]
  },
  {
   "cell_type": "code",
   "execution_count": 3,
   "id": "111e60bf-a7c8-41f1-b729-15d1defd27df",
   "metadata": {
    "tags": [],
    "vscode": {
     "languageId": "shellscript"
    }
   },
   "outputs": [
    {
     "name": "stdout",
     "output_type": "stream",
     "text": [
      "                           TxHash                                 TxIx        Amount\n",
      "--------------------------------------------------------------------------------------\n",
      "6074069fd35c5626aa985460c04dc1da05857ac0a6a3e3a9fcaff39abc841522     1        2000000 lovelace + TxOutDatumNone\n",
      "da57db8db612b4f49129d0f6484162101e970d1251c98c186d24e925749d9d80     1        87000000 lovelace + TxOutDatumNone\n",
      "e0ffebdee2ab8f218259571830239a711fcd605283f3d1edeb8e4470217af526     0        914845685 lovelace + TxOutDatumNone\n"
     ]
    }
   ],
   "source": [
    "cardano-cli query utxo --testnet-magic \"$CARDANO_TESTNET_MAGIC\" --address \"$LENDER_ADDR\""
   ]
  },
  {
   "cell_type": "markdown",
   "id": "d1d47a97-8c70-47c8-9c80-90e6619ea37c",
   "metadata": {},
   "source": [
    "One can view the address on a Cardano explorer. It sometimes takes thirty seconds or so for the transaction to be visible in an explorer."
   ]
  },
  {
   "cell_type": "code",
   "execution_count": null,
   "id": "d4eb8b9f-84a2-4fce-abec-8725dc67c46a",
   "metadata": {
    "tags": [],
    "vscode": {
     "languageId": "shellscript"
    }
   },
   "outputs": [],
   "source": [
    "$SCRIPTS/cardano-scan-address.sh $LENDER_ADDR"
   ]
  },
  {
   "cell_type": "markdown",
   "id": "7cb22b51-b719-429d-ab8c-ef43973905a7",
   "metadata": {
    "tags": [],
    "vscode": {
     "languageId": "shellscript"
    }
   },
   "source": [
    "### Borrower address and funds\n",
    "\n",
    "Check that an address and key has been created for the borrower. "
   ]
  },
  {
   "cell_type": "code",
   "execution_count": 34,
   "id": "b60f9abe-4956-4783-86cf-1827bd076dfe",
   "metadata": {
    "tags": [],
    "vscode": {
     "languageId": "shellscript"
    }
   },
   "outputs": [
    {
     "name": "stdout",
     "output_type": "stream",
     "text": [
      "BORROWER_ADDR = addr_test1vpyxad0mhrxgme9yz2yntdcnxknr6w6zrf70etua6przugcfsmd48\n"
     ]
    }
   ],
   "source": [
    "BORROWER_SKEY=$KEYS/borrower.skey\n",
    "BORROWER_ADDR=$(cat $KEYS/borrower.address)\n",
    "echo \"BORROWER_ADDR = $BORROWER_ADDR\""
   ]
  },
  {
   "cell_type": "markdown",
   "id": "9d9e5126-619f-4f5b-b51b-d4b5c80b952f",
   "metadata": {},
   "source": [
    "Check that the borrower has at least one hundred ada."
   ]
  },
  {
   "cell_type": "code",
   "execution_count": 6,
   "id": "a4a8216e-c5d3-4706-8ab9-918252369263",
   "metadata": {
    "tags": [],
    "vscode": {
     "languageId": "shellscript"
    }
   },
   "outputs": [
    {
     "name": "stdout",
     "output_type": "stream",
     "text": [
      "                           TxHash                                 TxIx        Amount\n",
      "--------------------------------------------------------------------------------------\n",
      "da57db8db612b4f49129d0f6484162101e970d1251c98c186d24e925749d9d80     0        914430977 lovelace + TxOutDatumNone\n",
      "e0ffebdee2ab8f218259571830239a711fcd605283f3d1edeb8e4470217af526     2        80000000 lovelace + TxOutDatumNone\n"
     ]
    }
   ],
   "source": [
    "cardano-cli query utxo --testnet-magic \"$CARDANO_TESTNET_MAGIC\" --address \"$BORROWER_ADDR\""
   ]
  },
  {
   "cell_type": "markdown",
   "id": "038e042c-2638-415c-ad7b-de390a82416b",
   "metadata": {},
   "source": [
    "One can view the address on a Cardano explorer. It sometimes takes thirty seconds or so for the transaction to be visible in an explorer."
   ]
  },
  {
   "cell_type": "code",
   "execution_count": null,
   "id": "3455b47d-45f9-4d31-aebe-ab0ea7b36aa9",
   "metadata": {
    "tags": [],
    "vscode": {
     "languageId": "shellscript"
    }
   },
   "outputs": [],
   "source": [
    "$SCRIPTS/cardano-scan-address.sh $BORROWER_ADDR"
   ]
  },
  {
   "cell_type": "markdown",
   "id": "b0f231be-b01f-4b30-a086-a3371eda42a3",
   "metadata": {},
   "source": [
    "## Design the contract\n",
    "\n",
    "The .json will be generated from the playground so this section will not be used\n",
    "Important things to considering when generating the .json:\n",
    "- paste the seller and buyer addesses in the corresponding blocks\n",
    "- Set the desired timeouts"
   ]
  },
  {
   "cell_type": "markdown",
   "id": "ba4c9c10",
   "metadata": {},
   "source": [
    "On the Cardano blockchain, the protocol parameters require that each UTxO contain at least some ada. Here we will start the contract with 2 ada."
   ]
  },
  {
   "cell_type": "code",
   "execution_count": 4,
   "id": "701b69a5",
   "metadata": {},
   "outputs": [
    {
     "name": "stdout",
     "output_type": "stream",
     "text": [
      "MIN_LOVELACE = 2000000 lovelace\n"
     ]
    }
   ],
   "source": [
    "ADA=1000000  # 1 ada = 1,000,000 lovelace\n",
    "MIN_LOVELACE=\"$((2 * ADA))\"\n",
    "echo \"MIN_LOVELACE = $MIN_LOVELACE lovelace\""
   ]
  },
  {
   "cell_type": "markdown",
   "id": "a1f0813f-86ae-4209-9a78-cd533fca9857",
   "metadata": {},
   "source": [
    "## Examine the contract\n",
    "\n",
    "View the contract file as YAML."
   ]
  },
  {
   "cell_type": "code",
   "execution_count": 13,
   "id": "112824a7-635f-4134-b133-a20e63660b35",
   "metadata": {
    "tags": [],
    "vscode": {
     "languageId": "shellscript"
    }
   },
   "outputs": [
    {
     "name": "stdout",
     "output_type": "stream",
     "text": [
      "timeout: 1695312000000\n",
      "timeout_continuation: close\n",
      "when:\n",
      "- case:\n",
      "    deposits: 10000000\n",
      "    into_account:\n",
      "      address: addr_test1vpt306v4wp7m6xn46hje64d6yuraxsruna03as4qgakm5cc222sc0\n",
      "    of_token:\n",
      "      currency_symbol: ''\n",
      "      token_name: ''\n",
      "    party:\n",
      "      address: addr_test1vpt306v4wp7m6xn46hje64d6yuraxsruna03as4qgakm5cc222sc0\n",
      "  then:\n",
      "    timeout: 1695326400000\n",
      "    timeout_continuation: close\n",
      "    when:\n",
      "    - case:\n",
      "        deposits: 10000000\n",
      "        into_account:\n",
      "          address: addr_test1vpyxad0mhrxgme9yz2yntdcnxknr6w6zrf70etua6przugcfsmd48\n",
      "        of_token:\n",
      "          currency_symbol: ''\n",
      "          token_name: ''\n",
      "        party:\n",
      "          address: addr_test1vpyxad0mhrxgme9yz2yntdcnxknr6w6zrf70etua6przugcfsmd48\n",
      "      then:\n",
      "        timeout: 1695391200000\n",
      "        timeout_continuation:\n",
      "          timeout: 1695477600000\n",
      "          timeout_continuation: close\n",
      "          when:\n",
      "          - case:\n",
      "              choose_between:\n",
      "              - from: 1\n",
      "                to: 1000000000000\n",
      "              for_choice:\n",
      "                choice_name: ADAUSD\n",
      "                choice_owner:\n",
      "                  address: oracle\n",
      "            then:\n",
      "              else:\n",
      "                from_account:\n",
      "                  address: addr_test1vpt306v4wp7m6xn46hje64d6yuraxsruna03as4qgakm5cc222sc0\n",
      "                pay: 10000000\n",
      "                then: close\n",
      "                to:\n",
      "                  account:\n",
      "                    address: addr_test1vpyxad0mhrxgme9yz2yntdcnxknr6w6zrf70etua6przugcfsmd48\n",
      "                token:\n",
      "                  currency_symbol: ''\n",
      "                  token_name: ''\n",
      "              if:\n",
      "                lt: 10000000\n",
      "                value:\n",
      "                  value_of_choice:\n",
      "                    choice_name: name\n",
      "                    choice_owner:\n",
      "                      address: oracle\n",
      "              then:\n",
      "                from_account:\n",
      "                  address: addr_test1vpyxad0mhrxgme9yz2yntdcnxknr6w6zrf70etua6przugcfsmd48\n",
      "                pay: 10000000\n",
      "                then: close\n",
      "                to:\n",
      "                  account:\n",
      "                    address: addr_test1vpt306v4wp7m6xn46hje64d6yuraxsruna03as4qgakm5cc222sc0\n",
      "                token:\n",
      "                  currency_symbol: ''\n",
      "                  token_name: ''\n",
      "        when: []\n"
     ]
    }
   ],
   "source": [
    "json2yaml simpleBet-contract.json"
   ]
  },
  {
   "cell_type": "markdown",
   "id": "d3f9edcd-5f91-4739-bdb4-02a14c9acdc0",
   "metadata": {},
   "source": [
    "Also view the initial state of the contract. Note that Marlowe Runtime overrides this with a state that it builds."
   ]
  },
  {
   "cell_type": "code",
   "execution_count": 10,
   "id": "34308675-6e14-4dfc-acb8-247c4add03c9",
   "metadata": {
    "tags": [],
    "vscode": {
     "languageId": "shellscript"
    }
   },
   "outputs": [
    {
     "name": "stdout",
     "output_type": "stream",
     "text": [
      "accounts:\n",
      "- - - address: addr_test1vpt306v4wp7m6xn46hje64d6yuraxsruna03as4qgakm5cc222sc0\n",
      "    - currency_symbol: ''\n",
      "      token_name: ''\n",
      "  - 5000000\n",
      "boundValues: []\n",
      "choices: []\n",
      "minTime: 1\n"
     ]
    }
   ],
   "source": [
    "json2yaml simpleBet-state.json"
   ]
  },
  {
   "cell_type": "markdown",
   "id": "00f357bf-ebf0-4459-adb9-32c5a1140759",
   "metadata": {
    "tags": []
   },
   "source": [
    "### \\[Optional, but recommended\\] Check the safety of the contract\n",
    "\n",
    "If we were running the contract on the Cardano `mainnet`, then we\\'d want to check its safety before creating it, so that there is no chance that we might lose funds.\n",
    "\n",
    "Here are the steps for checking the safety of a contract:\n",
    "\n",
    "1. Understand the [Marlowe Language](https://marlowe.iohk.io/).\n",
    "2. Understand Cardano\\'s [Extended UTxO Model](https://docs.cardano.org/learn/eutxo-explainer).\n",
    "3. Read and understand the [Marlowe Best Practices Guide](https://github.com/input-output-hk/marlowe-cardano/blob/main/marlowe/best-practices.md).\n",
    "4. Read and understand the [Marlowe Security Guide](https://github.com/input-output-hk/marlowe-cardano/blob/main/marlowe/security.md).\n",
    "5. Use [Marlowe Playground](https://play.marlowe.iohk.io//) to flag warnings, perform static analysis, and simulate the contract.\n",
    "6. Use [Marlowe CLI\\'s](https://github.com/input-output-hk/marlowe-cardano/blob/main/marlowe-cli/ReadMe.md) `marlowe-cli run analyze` tool to study whether the contract can run on a Cardano network.\n",
    "7. Run *all execution paths* of the contract on a [Cardano testnet](https://docs.cardano.org/cardano-testnet/overview).\n",
    "\n",
    "Here we\\'ll perform step 6. First we bundle the contract and its initial state into a single file."
   ]
  },
  {
   "cell_type": "code",
   "execution_count": 16,
   "id": "f2c5f0ad-8c56-486a-9107-8abfa61ab68f",
   "metadata": {
    "tags": [],
    "vscode": {
     "languageId": "shellscript"
    }
   },
   "outputs": [
    {
     "name": "stdout",
     "output_type": "stream",
     "text": [
      "40K\tsimpleBet-marlowe.json\n"
     ]
    }
   ],
   "source": [
    "# Create the contract and bundle\n",
    "marlowe-cli run initialize \\\n",
    "  --permanently-without-staking \\\n",
    "  --contract-file simpleBet-contract.json \\\n",
    "  --state-file simpleBet-state.json \\\n",
    "  --out-file simpleBet-marlowe.json\n",
    "  \n",
    "# Show its size\n",
    "du -hs simpleBet-marlowe.json"
   ]
  },
  {
   "cell_type": "markdown",
   "id": "f86ee195-d7a0-4e2e-8cc6-0155112f9c56",
   "metadata": {},
   "source": [
    "Now we analyze the contract and its execution paths."
   ]
  },
  {
   "cell_type": "code",
   "execution_count": 19,
   "id": "bb0789a1-3e56-4e5a-91aa-33417e957c9f",
   "metadata": {
    "tags": [],
    "vscode": {
     "languageId": "shellscript"
    }
   },
   "outputs": [
    {
     "name": "stdout",
     "output_type": "stream",
     "text": [
      "- Preconditions:\n",
      "    Duplicate accounts: []\n",
      "    Duplicate bound values: []\n",
      "    Duplicate choices: []\n",
      "    Invalid account parties: []\n",
      "    Invalid account tokens: []\n",
      "    Invalid choice parties: []\n",
      "    Invalid roles currency: false\n",
      "    Non-positive account balances: []\n",
      "- Role names:\n",
      "    Blank role names: false\n",
      "    Invalid role names: []\n",
      "- Tokens:\n",
      "    Invalid tokens: []\n",
      "- Maximum value:\n",
      "    Actual: 96\n",
      "    Invalid: false\n",
      "    Maximum: 5000\n",
      "    Percentage: 1.92\n",
      "    Unit: byte\n",
      "- Minimum UTxO:\n",
      "    Requirement:\n",
      "      lovelace: 1120600\n",
      "- Execution cost:\n",
      "    Memory:\n",
      "      Actual: 6158568\n",
      "      Invalid: false\n",
      "      Maximum: 14000000\n",
      "      Percentage: 43.98977142857143\n",
      "    Steps:\n",
      "      Actual: 1638071105\n",
      "      Invalid: false\n",
      "      Maximum: 10000000000\n",
      "      Percentage: 16.38071105\n",
      "- Transaction size:\n",
      "    Actual: 2108\n",
      "    Invalid: false\n",
      "    Maximum: 16384\n",
      "    Percentage: 12.8662109375\n"
     ]
    }
   ],
   "source": [
    "marlowe-cli run analyze \\\n",
    "  --marlowe-file simpleBet-marlowe.json"
   ]
  },
  {
   "cell_type": "markdown",
   "id": "2eae4910-05cf-4eca-ad15-be285ee3c782",
   "metadata": {},
   "source": [
    "In the above report, we see that the contract doesn\\'t have any duplicate or invalid values, and it does not exceed any of the blockchain\\'s protocol parameters. In particular, note that our previously chosen `MIN_LOVELACE` value of 2 ada is greater than the 1.120600 ada that the analysis tool says is needed. Thus, it is safe to execute any path in the contract."
   ]
  },
  {
   "cell_type": "markdown",
   "id": "fcbdcc02-7ffe-46a4-8732-10a3e7b93865",
   "metadata": {},
   "source": [
    "## Transaction 1. Create the Contract"
   ]
  },
  {
   "cell_type": "markdown",
   "id": "6fad0f1b-a918-4c56-867e-29600be217f4",
   "metadata": {},
   "source": [
    "Marlowe Runtime\\'s command `marlowe-runtime-cli create` will build the creation transaction for a Marlowe contract. We provide it the JSON file containing the contract and tell it the `MIN_LOVELACE` value that we previously chose. Anyone could create the contract, but in this example the lender will be doing so, so we provide their address to fund the transaction and to receive the change from it."
   ]
  },
  {
   "cell_type": "code",
   "execution_count": null,
   "id": "87672246-de07-4356-8cee-3692eeb36572",
   "metadata": {
    "tags": [],
    "vscode": {
     "languageId": "shellscript"
    }
   },
   "outputs": [],
   "source": [
    "marlowe-runtime-cli create --help"
   ]
  },
  {
   "cell_type": "code",
   "execution_count": 17,
   "id": "f8c85b72-afe2-460c-a48a-6e347ace520c",
   "metadata": {
    "tags": [],
    "vscode": {
     "languageId": "shellscript"
    }
   },
   "outputs": [
    {
     "name": "stdout",
     "output_type": "stream",
     "text": [
      "Safety analysis found no errors in the contract.\n",
      "CONTRACT_ID = b0d95acc52b93db900f40a9abcd3994324de421fdc590672db8fd615b01fffd8#1\n"
     ]
    }
   ],
   "source": [
    "CONTRACT_ID=$(\n",
    "marlowe-runtime-cli create \\\n",
    "  --core-file simpleBet-contract.json \\\n",
    "  --min-utxo \"$MIN_LOVELACE\" \\\n",
    "  --change-address \"$LENDER_ADDR\" \\\n",
    "  --manual-sign tx-1.unsigned \\\n",
    "| jq -r 'fromjson | .contractId' \\\n",
    ")\n",
    "echo \"CONTRACT_ID = $CONTRACT_ID\""
   ]
  },
  {
   "cell_type": "markdown",
   "id": "fb633e68-7177-44ac-a46b-009539093419",
   "metadata": {},
   "source": [
    "Marlowe Runtime uses the first (creation) UTxO of the contract to identify it throughout its lifecycle.\n",
    "\n",
    "The result of building the transaction is the identifier for the contract and the file `tx-1.unsigned`, which contains the Cardano unsigned transaction for creating the contract, in text-envelope format."
   ]
  },
  {
   "cell_type": "code",
   "execution_count": 18,
   "id": "43ddbc79-cc07-45e6-9266-aac7447b7fe3",
   "metadata": {
    "tags": [],
    "vscode": {
     "languageId": "shellscript"
    }
   },
   "outputs": [
    {
     "name": "stdout",
     "output_type": "stream",
     "text": [
      "cborHex: 86a40081825820da57db8db612b4f49129d0f6484162101e970d1251c98c186d24e925749d9d80010182a200581d605717e995707dbd1a75d5e59d55ba2707d3407c9f5f1ec2a0476dba63011a050ddc03a300581d702ed2631dbb277c84334453c5c437b86325d371f0835a28b910a91a6e011a001e84800282005820de5137987de0cb8de957c1ff209eeea85f19ad9abfd74c773d2a09971c27516e021a0003233d0b5820547845df91daf7cf0e1ee0132bcb4b3fd226e9051873c271ecf94e348247b09d9fff81d8799fd8799f40ffd8799fa1d8799fd8799fd87980d8799fd8799f581c5717e995707dbd1a75d5e59d55ba2707d3407c9f5f1ec2a0476dba63ffd87a80ffffd8799f4040ffff1a001e8480a0a000ffd87c9f9fd8799fd8799fd8799fd87980d8799fd8799f581c5717e995707dbd1a75d5e59d55ba2707d3407c9f5f1ec2a0476dba63ffd87a80ffffd8799fd87980d8799fd8799f581c5717e995707dbd1a75d5e59d55ba2707d3407c9f5f1ec2a0476dba63ffd87a80ffffd8799f4040ffd87a9f1a00989680ffffd87c9f9fd8799fd8799fd8799fd87980d8799fd8799f581c486eb5fbb8cc8de4a4128935b71335a63d3b421a7cfcaf9dd0462e23ffd87a80ffffd8799fd87980d8799fd8799f581c486eb5fbb8cc8de4a4128935b71335a63d3b421a7cfcaf9dd0462e23ffd87a80ffffd8799f4040ffd87a9f1a00989680ffffd87c9f801b0000018abd30b300d87c9f9fd8799fd87a9fd8799f46414441555344d8799fd87980d8799fd8799f581c03fb0809a40decfa6b3542a6142c107bf744465be5ba92004e7239c0ffd87a80ffffff9fd8799f011b000000e8d4a51000ffffffd87b9fd87f9fd905009fd8799f46414441555344d8799fd87980d8799fd8799f581c03fb0809a40decfa6b3542a6142c107bf744465be5ba92004e7239c0ffd87a80ffffffffd87a9f1a00989680ffffd87a9fd8799fd87980d8799fd8799f581c486eb5fbb8cc8de4a4128935b71335a63d3b421a7cfcaf9dd0462e23ffd87a80ffffd8799fd8799fd87980d8799fd8799f581c5717e995707dbd1a75d5e59d55ba2707d3407c9f5f1ec2a0476dba63ffd87a80ffffffd8799f4040ffd87a9f1a00989680ffd87980ffd87a9fd8799fd87980d8799fd8799f581c5717e995707dbd1a75d5e59d55ba2707d3407c9f5f1ec2a0476dba63ffd87a80ffffd8799fd8799fd87980d8799fd8799f581c486eb5fbb8cc8de4a4128935b71335a63d3b421a7cfcaf9dd0462e23ffd87a80ffffffd8799f4040ffd87a9f1a00989680ffd87980ffffffff1b0000018ac2570f00d87980ffffffff1b0000018ab953ee00d87980ffffff1b0000018ab8783400d87980ffff80f5f6\n",
      "description: ''\n",
      "type: TxBodyBabbage\n"
     ]
    }
   ],
   "source": [
    "json2yaml tx-1.unsigned"
   ]
  },
  {
   "cell_type": "markdown",
   "id": "1f0d00de-4fd7-41bd-a933-170de9ef2688",
   "metadata": {},
   "source": [
    "There are many ways to sign and submit Cardano transactions:\n",
    "- `cardano-cli` at the command line\n",
    "- `cardano-wallet` at the command line or as a REST service\n",
    "- `cardano-hw-cli` for a hardware wallet at the command line\n",
    "- a Babbage-compatible CIP-30 wallet in a web browser\n",
    "- `marlowe-cli` at the command line\n",
    "- `marlowe-runtime-cli submit` at the command line (requires signing by a separate tool such as `cardano-cli`)\n",
    "\n",
    "For convenience, here we use `marlowe-cli transaction submit`. One may have to wait a minute or so for the transactions to be confirmed on the blockchain."
   ]
  },
  {
   "cell_type": "code",
   "execution_count": 19,
   "id": "ae1f6a5f-b4f7-452f-9d1b-f0545135deb5",
   "metadata": {
    "tags": [],
    "vscode": {
     "languageId": "shellscript"
    }
   },
   "outputs": [
    {
     "name": "stdout",
     "output_type": "stream",
     "text": [
      "submiting transaction...\n",
      "TX_1 = b0d95acc52b93db900f40a9abcd3994324de421fdc590672db8fd615b01fffd8\n"
     ]
    }
   ],
   "source": [
    "echo \"submiting transaction...\"\n",
    "TX_1=$(\n",
    "marlowe-cli transaction submit \\\n",
    "  --tx-body-file tx-1.unsigned \\\n",
    "  --required-signer \"$LENDER_SKEY\" \\\n",
    "  --timeout 600s \\\n",
    "| sed -e 's/^TxId \"\\(.*\\)\"$/\\1/' \\\n",
    ")\n",
    "echo \"TX_1 = $TX_1\""
   ]
  },
  {
   "cell_type": "markdown",
   "id": "aa349a31-4e44-42c9-8c3d-e910f195325d",
   "metadata": {},
   "source": [
    "One can view the transaction on a Cardano and Marlowe explorer. It sometimes takes thirty seconds or so for the transaction to be visible in an explorer."
   ]
  },
  {
   "cell_type": "code",
   "execution_count": null,
   "id": "72115506-5bfd-480f-b3f0-47520dca84c1",
   "metadata": {
    "tags": [],
    "vscode": {
     "languageId": "shellscript"
    }
   },
   "outputs": [],
   "source": [
    "echo \"Cardano Scan (low level)\"\n",
    "$SCRIPTS/cardano-scan-tx.sh $TX_1\n",
    "echo\n",
    "echo \"Marlowe Scan (high level)\"\n",
    "$SCRIPTS/marlowe-scan.sh $CONTRACT_ID"
   ]
  },
  {
   "cell_type": "markdown",
   "id": "3b3dae70-a556-4621-bab9-fd92b9f165eb",
   "metadata": {},
   "source": [
    "One can also examine the contract's UTxO using `cardano-cli`."
   ]
  },
  {
   "cell_type": "code",
   "execution_count": 20,
   "id": "c4af1000-9220-4f31-92e8-ee5eb405df0b",
   "metadata": {
    "tags": [],
    "vscode": {
     "languageId": "shellscript"
    }
   },
   "outputs": [
    {
     "name": "stdout",
     "output_type": "stream",
     "text": [
      "                           TxHash                                 TxIx        Amount\n",
      "--------------------------------------------------------------------------------------\n",
      "b0d95acc52b93db900f40a9abcd3994324de421fdc590672db8fd615b01fffd8     1        2000000 lovelace + TxOutDatumHash ScriptDataInBabbageEra \"de5137987de0cb8de957c1ff209eeea85f19ad9abfd74c773d2a09971c27516e\"\n"
     ]
    }
   ],
   "source": [
    "cardano-cli query utxo --testnet-magic \"$CARDANO_TESTNET_MAGIC\" --tx-in \"$TX_1#1\""
   ]
  },
  {
   "cell_type": "markdown",
   "id": "c42fef94-fbf9-4208-90c3-3f93a2eb5290",
   "metadata": {},
   "source": [
    "## View the details of the contract on the blockchain\n",
    "\n",
    "Marlowe Runtime\\'s command `marlowe-runtime-cli log` can fetch a contract from the blockchain and print information about it."
   ]
  },
  {
   "cell_type": "code",
   "execution_count": 21,
   "id": "a753938c-92bb-43aa-bb13-d09a112939c6",
   "metadata": {
    "tags": [],
    "vscode": {
     "languageId": "shellscript"
    }
   },
   "outputs": [
    {
     "name": "stdout",
     "output_type": "stream",
     "text": [
      "\u001b[93mtransaction b0d95acc52b93db900f40a9abcd3994324de421fdc590672db8fd615b01fffd8 (creation)\n",
      "\u001b[0mContractId:      b0d95acc52b93db900f40a9abcd3994324de421fdc590672db8fd615b01fffd8#1\n",
      "SlotNo:          39537462\n",
      "BlockNo:         1400171\n",
      "BlockId:         fd60a8a929954909a86ff18ebeb13a96ad104ee17c9d7dc657497b2836a6d16b\n",
      "ScriptAddress:   addr_test1wqhdyccahvnheppng3fut3phhp3jt5m37zp4529ezz535ms2u9jqv\n",
      "Marlowe Version: 1\n",
      "\n",
      "    When [\n",
      "      (Case\n",
      "         (Deposit (Address \"addr_test1vpt306v4wp7m6xn46hje64d6yuraxsruna03as4qgakm5cc222sc0\") (Address \"addr_test1vpt306v4wp7m6xn46hje64d6yuraxsruna03as4qgakm5cc222sc0\")\n",
      "            (Token \"\" \"\")\n",
      "            (Constant 10000000))\n",
      "         (When [\n",
      "            (Case\n",
      "               (Deposit (Address \"addr_test1vpyxad0mhrxgme9yz2yntdcnxknr6w6zrf70etua6przugcfsmd48\") (Address \"addr_test1vpyxad0mhrxgme9yz2yntdcnxknr6w6zrf70etua6przugcfsmd48\")\n",
      "                  (Token \"\" \"\")\n",
      "                  (Constant 10000000))\n",
      "               (When [] 1695391200000\n",
      "                  (When [\n",
      "                     (Case\n",
      "                        (Choice\n",
      "                           (ChoiceId \"ADAUSD\" (Address \"addr_test1vqplkzqf5sx7e7ntx4p2v9pvzpalw3zxt0jm4ysqfeernsqng4nkj\")) [\n",
      "                           (Bound 1 1000000000000)])\n",
      "                        (If\n",
      "                           (ValueLT\n",
      "                              (ChoiceValue\n",
      "                                 (ChoiceId \"ADAUSD\" (Address \"addr_test1vqplkzqf5sx7e7ntx4p2v9pvzpalw3zxt0jm4ysqfeernsqng4nkj\")))\n",
      "                              (Constant 10000000))\n",
      "                           (Pay (Address \"addr_test1vpyxad0mhrxgme9yz2yntdcnxknr6w6zrf70etua6przugcfsmd48\")\n",
      "                              (Account (Address \"addr_test1vpt306v4wp7m6xn46hje64d6yuraxsruna03as4qgakm5cc222sc0\"))\n",
      "                              (Token \"\" \"\")\n",
      "                              (Constant 10000000) Close)\n",
      "                           (Pay (Address \"addr_test1vpt306v4wp7m6xn46hje64d6yuraxsruna03as4qgakm5cc222sc0\")\n",
      "                              (Account (Address \"addr_test1vpyxad0mhrxgme9yz2yntdcnxknr6w6zrf70etua6przugcfsmd48\"))\n",
      "                              (Token \"\" \"\")\n",
      "                              (Constant 10000000) Close)))] 1695477600000 Close)))] 1695326400000 Close))] 1695312000000 Close\n",
      "\n"
     ]
    }
   ],
   "source": [
    "marlowe-runtime-cli log --show-contract \"$CONTRACT_ID\""
   ]
  },
  {
   "cell_type": "markdown",
   "id": "d44441bd-5679-498a-a4f0-156b7087a2b9",
   "metadata": {},
   "source": [
    "More detail can be retrieved using `marlowe-pipe`."
   ]
  },
  {
   "cell_type": "code",
   "execution_count": 22,
   "id": "2ea93a41-ad4a-4040-842a-6c2eec4ba4ae",
   "metadata": {
    "tags": [],
    "vscode": {
     "languageId": "shellscript"
    }
   },
   "outputs": [
    {
     "name": "stdout",
     "output_type": "stream",
     "text": [
      "creation:\n",
      "  output:\n",
      "    address: 702ed2631dbb277c84334453c5c437b86325d371f0835a28b910a91a6e\n",
      "    assets:\n",
      "      ada: 2000000\n",
      "      tokens: []\n",
      "    datum:\n",
      "      marloweContract:\n",
      "        timeout: 1695312000000\n",
      "        timeout_continuation: close\n",
      "        when:\n",
      "        - case:\n",
      "            deposits: 10000000\n",
      "            into_account:\n",
      "              address: addr_test1vpt306v4wp7m6xn46hje64d6yuraxsruna03as4qgakm5cc222sc0\n",
      "            of_token:\n",
      "              currency_symbol: ''\n",
      "              token_name: ''\n",
      "            party:\n",
      "              address: addr_test1vpt306v4wp7m6xn46hje64d6yuraxsruna03as4qgakm5cc222sc0\n",
      "          then:\n",
      "            timeout: 1695326400000\n",
      "            timeout_continuation: close\n",
      "            when:\n",
      "            - case:\n",
      "                deposits: 10000000\n",
      "                into_account:\n",
      "                  address: addr_test1vpyxad0mhrxgme9yz2yntdcnxknr6w6zrf70etua6przugcfsmd48\n",
      "                of_token:\n",
      "                  currency_symbol: ''\n",
      "                  token_name: ''\n",
      "                party:\n",
      "                  address: addr_test1vpyxad0mhrxgme9yz2yntdcnxknr6w6zrf70etua6przugcfsmd48\n",
      "              then:\n",
      "                timeout: 1695391200000\n",
      "                timeout_continuation:\n",
      "                  timeout: 1695477600000\n",
      "                  timeout_continuation: close\n",
      "                  when:\n",
      "                  - case:\n",
      "                      choose_between:\n",
      "                      - from: 1\n",
      "                        to: 1000000000000\n",
      "                      for_choice:\n",
      "                        choice_name: ADAUSD\n",
      "                        choice_owner:\n",
      "                          address: addr_test1vqplkzqf5sx7e7ntx4p2v9pvzpalw3zxt0jm4ysqfeernsqng4nkj\n",
      "                    then:\n",
      "                      else:\n",
      "                        from_account:\n",
      "                          address: addr_test1vpt306v4wp7m6xn46hje64d6yuraxsruna03as4qgakm5cc222sc0\n",
      "                        pay: 10000000\n",
      "                        then: close\n",
      "                        to:\n",
      "                          account:\n",
      "                            address: addr_test1vpyxad0mhrxgme9yz2yntdcnxknr6w6zrf70etua6przugcfsmd48\n",
      "                        token:\n",
      "                          currency_symbol: ''\n",
      "                          token_name: ''\n",
      "                      if:\n",
      "                        lt: 10000000\n",
      "                        value:\n",
      "                          value_of_choice:\n",
      "                            choice_name: ADAUSD\n",
      "                            choice_owner:\n",
      "                              address: addr_test1vqplkzqf5sx7e7ntx4p2v9pvzpalw3zxt0jm4ysqfeernsqng4nkj\n",
      "                      then:\n",
      "                        from_account:\n",
      "                          address: addr_test1vpyxad0mhrxgme9yz2yntdcnxknr6w6zrf70etua6przugcfsmd48\n",
      "                        pay: 10000000\n",
      "                        then: close\n",
      "                        to:\n",
      "                          account:\n",
      "                            address: addr_test1vpt306v4wp7m6xn46hje64d6yuraxsruna03as4qgakm5cc222sc0\n",
      "                        token:\n",
      "                          currency_symbol: ''\n",
      "                          token_name: ''\n",
      "                when: []\n",
      "      marloweParams:\n",
      "        rolesCurrency: ''\n",
      "      marloweState:\n",
      "        accounts:\n",
      "        - - - address: addr_test1vpt306v4wp7m6xn46hje64d6yuraxsruna03as4qgakm5cc222sc0\n",
      "            - currency_symbol: ''\n",
      "              token_name: ''\n",
      "          - 2000000\n",
      "        boundValues: []\n",
      "        choices: []\n",
      "        minTime: 0\n",
      "    utxo:\n",
      "      txId: b0d95acc52b93db900f40a9abcd3994324de421fdc590672db8fd615b01fffd8\n",
      "      txIx: 1\n",
      "  payoutValidatorHash: e165610232235bbbbeff5b998b233daae42979dec92a6722d9cda989\n",
      "response: info\n",
      "steps: []\n"
     ]
    }
   ],
   "source": [
    "echo '{\"request\" : \"get\", \"contractId\" : \"'\"$CONTRACT_ID\"'\"}' | marlowe-pipe 2> /dev/null | json2yaml"
   ]
  },
  {
   "cell_type": "markdown",
   "id": "cd4fa3da-0f75-4b96-a911-0ba5bea722f8",
   "metadata": {},
   "source": [
    "## Transaction 2. The lender deposits the principal\n",
    "\n",
    "The lender deposits their 80 ada of principal into the contract using Marlowe Runtime\\'s `marlowe-runtime-cli deposit` command. The lender is providing the funding for and receiving the change from this transaction, so we provide their address. We provide the contract identifier and save the unsigned transaction in the file `tx-2.unsigned`."
   ]
  },
  {
   "cell_type": "code",
   "execution_count": null,
   "id": "bf42d7d0-be81-42a1-8da7-5ff07b9611ee",
   "metadata": {
    "tags": [],
    "vscode": {
     "languageId": "shellscript"
    }
   },
   "outputs": [],
   "source": [
    "marlowe-runtime-cli deposit --help"
   ]
  },
  {
   "cell_type": "code",
   "execution_count": 26,
   "id": "96e0b7b9-4816-46d3-ad2c-580dd7547b07",
   "metadata": {
    "tags": [],
    "vscode": {
     "languageId": "shellscript"
    }
   },
   "outputs": [
    {
     "name": "stdout",
     "output_type": "stream",
     "text": [
      "TX_2 = 3f46f72e87e6f2907a79935bc48666238727998cbc8224426cb6959d5615f5ea\n"
     ]
    }
   ],
   "source": [
    "TX_2=$(\n",
    "marlowe-runtime-cli deposit \\\n",
    "  --contract \"$CONTRACT_ID\" \\\n",
    "  --from-party \"$LENDER_ADDR\" \\\n",
    "  --to-party \"$LENDER_ADDR\" \\\n",
    "  --lovelace \"10000000\" \\\n",
    "  --change-address \"$LENDER_ADDR\" \\\n",
    "  --manual-sign tx-2.unsigned \\\n",
    "| jq -r 'fromjson | .txId' \\\n",
    ")\n",
    "echo \"TX_2 = $TX_2\""
   ]
  },
  {
   "cell_type": "markdown",
   "id": "d888ede9-b756-4ab4-bd8a-f9090870d8ca",
   "metadata": {},
   "source": [
    "Note that if the transaction would violate the logic of the Marlowe contract, one would receive an error message. For example, let\\'s say that we deposit the incorrect amount or deposit it to the wrong party\\'s internal account."
   ]
  },
  {
   "cell_type": "code",
   "execution_count": null,
   "id": "28c51136-8e5a-483b-891a-e9345f1a6be5",
   "metadata": {
    "tags": [],
    "vscode": {
     "languageId": "shellscript"
    }
   },
   "outputs": [],
   "source": [
    "marlowe-runtime-cli deposit \\\n",
    "  --contract \"$CONTRACT_ID\" \\\n",
    "  --from-party \"$LENDER_ADDR\" \\\n",
    "  --to-party \"$LENDER_ADDR\" \\\n",
    "  --lovelace 80 \\\n",
    "  --change-address \"$LENDER_ADDR\" \\\n",
    "  --manual-sign /dev/null"
   ]
  },
  {
   "cell_type": "code",
   "execution_count": null,
   "id": "ab45188c-ab07-4918-96f2-79da42ab92f8",
   "metadata": {
    "tags": [],
    "vscode": {
     "languageId": "shellscript"
    }
   },
   "outputs": [],
   "source": [
    "marlowe-runtime-cli deposit \\\n",
    "  --contract \"$CONTRACT_ID\" \\\n",
    "  --from-party \"$LENDER_ADDR\" \\\n",
    "  --to-party \"$BORROWER_ADDR\" \\\n",
    "  --lovelace \"$PRINCIPAL\"\\\n",
    "  --change-address \"$LENDER_ADDR\" \\\n",
    "  --manual-sign /dev/null"
   ]
  },
  {
   "cell_type": "markdown",
   "id": "a75dc0f2-9be5-4f3c-bce4-ec902063967d",
   "metadata": {},
   "source": [
    "The [Marlowe Debugging Cookbook](https://github.com/input-output-hk/marlowe-cardano/blob/main/marlowe/debugging-cookbook.md) guides interpretation of error messages. Also, one can determine the possible actions for the contract at its current stage of execution by studing the contract\\'s current state or by using Marlowe playground to simulate the contract.\n",
    "\n",
    "![Simulation of zero-coupon bond contract in Marlowe Playground](../../images/zcb-simulation.png)"
   ]
  },
  {
   "cell_type": "markdown",
   "id": "877807a1-7e62-4258-8d3c-b82664821dc9",
   "metadata": {},
   "source": [
    "Once again, use `marlowe-cli` to submit the transaction and then wait for confirmation."
   ]
  },
  {
   "cell_type": "code",
   "execution_count": 27,
   "id": "bb1b0e65-3cf7-42e1-9495-ce45007e331a",
   "metadata": {
    "tags": [],
    "vscode": {
     "languageId": "shellscript"
    }
   },
   "outputs": [
    {
     "name": "stdout",
     "output_type": "stream",
     "text": [
      "submiting transaction...\n",
      "TxId \"3f46f72e87e6f2907a79935bc48666238727998cbc8224426cb6959d5615f5ea\"\n"
     ]
    }
   ],
   "source": [
    "echo \"submiting transaction...\"\n",
    "marlowe-cli transaction submit \\\n",
    "  --tx-body-file tx-2.unsigned \\\n",
    "  --required-signer \"$LENDER_SKEY\" \\\n",
    "  --timeout 600s"
   ]
  },
  {
   "cell_type": "markdown",
   "id": "eed6b35f-7aa9-4266-98d2-ac7320ccaf69",
   "metadata": {},
   "source": [
    "One can view the transaction on a Cardano explorer. It sometimes takes thirty seconds or so for the transaction to be visible in an explorer."
   ]
  },
  {
   "cell_type": "code",
   "execution_count": null,
   "id": "bb813544-092a-4831-bff5-5ea7ce8a9259",
   "metadata": {
    "tags": [],
    "vscode": {
     "languageId": "shellscript"
    }
   },
   "outputs": [],
   "source": [
    "echo \"Cardano Scan (low level)\"\n",
    "$SCRIPTS/cardano-scan-tx.sh $TX_2\n",
    "echo\n",
    "echo \"Marlowe Scan (high level)\"\n",
    "$SCRIPTS/marlowe-scan.sh $CONTRACT_ID"
   ]
  },
  {
   "cell_type": "markdown",
   "id": "44cd316b-d4db-4d2b-87a7-eb38b95f5fb3",
   "metadata": {},
   "source": [
    "One can see that the lender has 82 ada less than originally. Two ada were deposited in the contract when it was created and 80 ada were paid to the borrower in the second transaction."
   ]
  },
  {
   "cell_type": "code",
   "execution_count": 28,
   "id": "b45dc15d-f54f-49cb-a36d-0524f47fd70e",
   "metadata": {
    "tags": [],
    "vscode": {
     "languageId": "shellscript"
    }
   },
   "outputs": [
    {
     "name": "stdout",
     "output_type": "stream",
     "text": [
      "Lender:\n",
      "https://preprod.cardanoscan.io/address/addr_test1vpt306v4wp7m6xn46hje64d6yuraxsruna03as4qgakm5cc222sc0\n",
      "\n",
      "                           TxHash                                 TxIx        Amount\n",
      "--------------------------------------------------------------------------------------\n",
      "3f46f72e87e6f2907a79935bc48666238727998cbc8224426cb6959d5615f5ea     0        74113860 lovelace + TxOutDatumNone\n",
      "6074069fd35c5626aa985460c04dc1da05857ac0a6a3e3a9fcaff39abc841522     1        2000000 lovelace + TxOutDatumNone\n",
      "e0ffebdee2ab8f218259571830239a711fcd605283f3d1edeb8e4470217af526     0        914845685 lovelace + TxOutDatumNone\n"
     ]
    }
   ],
   "source": [
    "echo \"Lender:\"\n",
    "$SCRIPTS/cardano-scan-address.sh $LENDER_ADDR\n",
    "echo\n",
    "cardano-cli query utxo --testnet-magic \"$CARDANO_TESTNET_MAGIC\" --address \"$LENDER_ADDR\""
   ]
  },
  {
   "cell_type": "markdown",
   "id": "8538b320-c3d6-45cb-88f7-aab77f77b78b",
   "metadata": {},
   "source": [
    "The borrower has an additional 80 ada (the loan's principal) now."
   ]
  },
  {
   "cell_type": "code",
   "execution_count": null,
   "id": "304baf28-2a07-4ca7-8576-c10c8a960fcd",
   "metadata": {
    "tags": [],
    "vscode": {
     "languageId": "shellscript"
    }
   },
   "outputs": [],
   "source": [
    "echo \"Borrower:\"\n",
    "$SCRIPTS/cardano-scan-address.sh $BORROWER_ADDR\n",
    "echo\n",
    "cardano-cli query utxo --testnet-magic \"$CARDANO_TESTNET_MAGIC\" --address \"$BORROWER_ADDR\""
   ]
  },
  {
   "cell_type": "markdown",
   "id": "369f3945-299b-41dd-9cbf-f3864002b6aa",
   "metadata": {},
   "source": [
    "The Marlowe contract still has the 2 ada from its creation."
   ]
  },
  {
   "cell_type": "code",
   "execution_count": null,
   "id": "6485d605-dec4-4bab-86f6-81bf002041ed",
   "metadata": {
    "tags": [],
    "vscode": {
     "languageId": "shellscript"
    }
   },
   "outputs": [],
   "source": [
    "cardano-cli query utxo --testnet-magic \"$CARDANO_TESTNET_MAGIC\" --tx-in \"$TX_2#1\""
   ]
  },
  {
   "cell_type": "markdown",
   "id": "3eb0d02e-c30c-4845-86b5-602c2279b518",
   "metadata": {},
   "source": [
    "## View the further progress of the contract on the blockchain\n",
    "\n",
    "Marlowe Runtime\\'s command `marlowe-runtime-cli log` can fetch a contract from the blockchain and print information about it."
   ]
  },
  {
   "cell_type": "code",
   "execution_count": 29,
   "id": "e0461725-7f2b-4256-ac83-8e681ecb3e35",
   "metadata": {
    "tags": [],
    "vscode": {
     "languageId": "shellscript"
    }
   },
   "outputs": [
    {
     "name": "stdout",
     "output_type": "stream",
     "text": [
      "\u001b[93mtransaction b0d95acc52b93db900f40a9abcd3994324de421fdc590672db8fd615b01fffd8 (creation)\n",
      "\u001b[0mContractId:      b0d95acc52b93db900f40a9abcd3994324de421fdc590672db8fd615b01fffd8#1\n",
      "SlotNo:          39537462\n",
      "BlockNo:         1400171\n",
      "BlockId:         fd60a8a929954909a86ff18ebeb13a96ad104ee17c9d7dc657497b2836a6d16b\n",
      "ScriptAddress:   addr_test1wqhdyccahvnheppng3fut3phhp3jt5m37zp4529ezz535ms2u9jqv\n",
      "Marlowe Version: 1\n",
      "\n",
      "    When [\n",
      "      (Case\n",
      "         (Deposit (Address \"addr_test1vpt306v4wp7m6xn46hje64d6yuraxsruna03as4qgakm5cc222sc0\") (Address \"addr_test1vpt306v4wp7m6xn46hje64d6yuraxsruna03as4qgakm5cc222sc0\")\n",
      "            (Token \"\" \"\")\n",
      "            (Constant 10000000))\n",
      "         (When [\n",
      "            (Case\n",
      "               (Deposit (Address \"addr_test1vpyxad0mhrxgme9yz2yntdcnxknr6w6zrf70etua6przugcfsmd48\") (Address \"addr_test1vpyxad0mhrxgme9yz2yntdcnxknr6w6zrf70etua6przugcfsmd48\")\n",
      "                  (Token \"\" \"\")\n",
      "                  (Constant 10000000))\n",
      "               (When [] 1695391200000\n",
      "                  (When [\n",
      "                     (Case\n",
      "                        (Choice\n",
      "                           (ChoiceId \"ADAUSD\" (Address \"addr_test1vqplkzqf5sx7e7ntx4p2v9pvzpalw3zxt0jm4ysqfeernsqng4nkj\")) [\n",
      "                           (Bound 1 1000000000000)])\n",
      "                        (If\n",
      "                           (ValueLT\n",
      "                              (ChoiceValue\n",
      "                                 (ChoiceId \"ADAUSD\" (Address \"addr_test1vqplkzqf5sx7e7ntx4p2v9pvzpalw3zxt0jm4ysqfeernsqng4nkj\")))\n",
      "                              (Constant 10000000))\n",
      "                           (Pay (Address \"addr_test1vpyxad0mhrxgme9yz2yntdcnxknr6w6zrf70etua6przugcfsmd48\")\n",
      "                              (Account (Address \"addr_test1vpt306v4wp7m6xn46hje64d6yuraxsruna03as4qgakm5cc222sc0\"))\n",
      "                              (Token \"\" \"\")\n",
      "                              (Constant 10000000) Close)\n",
      "                           (Pay (Address \"addr_test1vpt306v4wp7m6xn46hje64d6yuraxsruna03as4qgakm5cc222sc0\")\n",
      "                              (Account (Address \"addr_test1vpyxad0mhrxgme9yz2yntdcnxknr6w6zrf70etua6przugcfsmd48\"))\n",
      "                              (Token \"\" \"\")\n",
      "                              (Constant 10000000) Close)))] 1695477600000 Close)))] 1695326400000 Close))] 1695312000000 Close\n",
      "\n",
      "\u001b[93mtransaction 3f46f72e87e6f2907a79935bc48666238727998cbc8224426cb6959d5615f5ea\n",
      "\u001b[0mContractId: b0d95acc52b93db900f40a9abcd3994324de421fdc590672db8fd615b01fffd8#1\n",
      "SlotNo:     39537644\n",
      "BlockNo:    1400181\n",
      "BlockId:    c84c34e8a2aaab1e245934a450c125d2334a9bc1e760256c9823d36e02c6ca13\n",
      "Inputs:     [NormalInput (IDeposit \"\\\"addr_test1vpt306v4wp7m6xn46hje64d6yuraxsruna03as4qgakm5cc222sc0\\\"\" \"\\\"addr_test1vpt306v4wp7m6xn46hje64d6yuraxsruna03as4qgakm5cc222sc0\\\"\" (Token \"\" \"\") 10000000)]\n",
      "\n",
      "    When [\n",
      "      (Case\n",
      "         (Deposit (Address \"addr_test1vpyxad0mhrxgme9yz2yntdcnxknr6w6zrf70etua6przugcfsmd48\") (Address \"addr_test1vpyxad0mhrxgme9yz2yntdcnxknr6w6zrf70etua6przugcfsmd48\")\n",
      "            (Token \"\" \"\")\n",
      "            (Constant 10000000))\n",
      "         (When [] 1695391200000\n",
      "            (When [\n",
      "               (Case\n",
      "                  (Choice\n",
      "                     (ChoiceId \"ADAUSD\" (Address \"addr_test1vqplkzqf5sx7e7ntx4p2v9pvzpalw3zxt0jm4ysqfeernsqng4nkj\")) [\n",
      "                     (Bound 1 1000000000000)])\n",
      "                  (If\n",
      "                     (ValueLT\n",
      "                        (ChoiceValue\n",
      "                           (ChoiceId \"ADAUSD\" (Address \"addr_test1vqplkzqf5sx7e7ntx4p2v9pvzpalw3zxt0jm4ysqfeernsqng4nkj\")))\n",
      "                        (Constant 10000000))\n",
      "                     (Pay (Address \"addr_test1vpyxad0mhrxgme9yz2yntdcnxknr6w6zrf70etua6przugcfsmd48\")\n",
      "                        (Account (Address \"addr_test1vpt306v4wp7m6xn46hje64d6yuraxsruna03as4qgakm5cc222sc0\"))\n",
      "                        (Token \"\" \"\")\n",
      "                        (Constant 10000000) Close)\n",
      "                     (Pay (Address \"addr_test1vpt306v4wp7m6xn46hje64d6yuraxsruna03as4qgakm5cc222sc0\")\n",
      "                        (Account (Address \"addr_test1vpyxad0mhrxgme9yz2yntdcnxknr6w6zrf70etua6przugcfsmd48\"))\n",
      "                        (Token \"\" \"\")\n",
      "                        (Constant 10000000) Close)))] 1695477600000 Close)))] 1695326400000 Close\n",
      "\n"
     ]
    }
   ],
   "source": [
    "marlowe-runtime-cli log --show-contract \"$CONTRACT_ID\""
   ]
  },
  {
   "cell_type": "markdown",
   "id": "488eb566-c1d7-49a5-91bd-09922aa8493c",
   "metadata": {},
   "source": [
    "More detail can be retrieved using `marlowe-pipe`."
   ]
  },
  {
   "cell_type": "code",
   "execution_count": null,
   "id": "d373efd1-9947-4ce9-837e-ba0796d89146",
   "metadata": {
    "tags": [],
    "vscode": {
     "languageId": "shellscript"
    }
   },
   "outputs": [],
   "source": [
    "echo '{\"request\" : \"get\", \"contractId\" : \"'\"$CONTRACT_ID\"'\"}' | marlowe-pipe 2> /dev/null | json2yaml"
   ]
  },
  {
   "cell_type": "markdown",
   "id": "9f233f15",
   "metadata": {},
   "source": [
    "Or via the Marlowe SCAN"
   ]
  },
  {
   "cell_type": "code",
   "execution_count": 30,
   "id": "075211f6",
   "metadata": {
    "scrolled": true,
    "tags": [],
    "vscode": {
     "languageId": "shellscript"
    }
   },
   "outputs": [
    {
     "name": "stdout",
     "output_type": "stream",
     "text": [
      "https://preprod.marlowescan.com/contractView?tab=info&contractId=b0d95acc52b93db900f40a9abcd3994324de421fdc590672db8fd615b01fffd8%231\n"
     ]
    }
   ],
   "source": [
    "$SCRIPTS/marlowe-scan.sh $CONTRACT_ID"
   ]
  },
  {
   "cell_type": "markdown",
   "id": "9cf69931",
   "metadata": {},
   "source": [
    "Now the borrower or buyer deposits their escrow"
   ]
  },
  {
   "cell_type": "code",
   "execution_count": 35,
   "id": "1dc911d4",
   "metadata": {},
   "outputs": [
    {
     "name": "stdout",
     "output_type": "stream",
     "text": [
      "TX_3 = 1e75c353ca97457350eb6bb8feddf351642ab31d2687bb8c54e87a1aa4eddeff\n"
     ]
    }
   ],
   "source": [
    "TX_3=$(\n",
    "marlowe-runtime-cli deposit \\\n",
    "  --contract \"$CONTRACT_ID\" \\\n",
    "  --from-party \"$BORROWER_ADDR\" \\\n",
    "  --to-party \"$BORROWER_ADDR\" \\\n",
    "  --lovelace \"10000000\" \\\n",
    "  --change-address \"$BORROWER_ADDR\" \\\n",
    "  --manual-sign tx-3.unsigned \\\n",
    "| jq -r 'fromjson | .txId' \\\n",
    ")\n",
    "echo \"TX_3 = $TX_3\""
   ]
  },
  {
   "cell_type": "code",
   "execution_count": 37,
   "id": "df532bed",
   "metadata": {},
   "outputs": [
    {
     "name": "stdout",
     "output_type": "stream",
     "text": [
      "submiting transaction...\n",
      "TxId \"1e75c353ca97457350eb6bb8feddf351642ab31d2687bb8c54e87a1aa4eddeff\"\n"
     ]
    }
   ],
   "source": [
    "echo \"submiting transaction...\"\n",
    "marlowe-cli transaction submit \\\n",
    "  --tx-body-file tx-3.unsigned \\\n",
    "  --required-signer \"$BORROWER_SKEY\" \\\n",
    "  --timeout 600s"
   ]
  },
  {
   "cell_type": "code",
   "execution_count": 38,
   "id": "b1a055cc",
   "metadata": {},
   "outputs": [
    {
     "name": "stdout",
     "output_type": "stream",
     "text": [
      "https://preprod.marlowescan.com/contractView?tab=info&contractId=b0d95acc52b93db900f40a9abcd3994324de421fdc590672db8fd615b01fffd8%231\n"
     ]
    }
   ],
   "source": [
    "$SCRIPTS/marlowe-scan.sh $CONTRACT_ID"
   ]
  },
  {
   "cell_type": "markdown",
   "id": "15350dcf",
   "metadata": {},
   "source": [
    "## Oracle"
   ]
  },
  {
   "cell_type": "code",
   "execution_count": 41,
   "id": "1ad51eed",
   "metadata": {},
   "outputs": [
    {
     "name": "stdout",
     "output_type": "stream",
     "text": [
      "NOW = 1695221957000 POSIX milliseconds = Wed Sep 20 14:59:17 UTC 2023\n"
     ]
    }
   ],
   "source": [
    "SECOND=1000 # 1 second = 1000 milliseconds\n",
    "MINUTE=$((60 * SECOND)) # 1 minute = 60 seconds\n",
    "HOUR=$((60 * MINUTE)) # 1 hour = 60 minutes\n",
    "\n",
    "NOW=\"$((`date -u +%s` * SECOND))\"\n",
    "echo NOW = \"$NOW\" POSIX milliseconds = \"`date -d @$((NOW / SECOND))`\""
   ]
  },
  {
   "cell_type": "code",
   "execution_count": 42,
   "id": "0c7a8456",
   "metadata": {},
   "outputs": [
    {
     "name": "stdout",
     "output_type": "stream",
     "text": [
      "  % Total    % Received % Xferd  Average Speed   Time    Time     Time  Current\n",
      "                                 Dload  Upload   Total   Spent    Left  Speed\n",
      "100    25    0    25    0     0     20      0 --:--:--  0:00:01 --:--:--    20\n",
      "TICKER = 1000\n"
     ]
    }
   ],
   "source": [
    "TICKER=$(curl \"https://api.wolframalpha.com/v1/result?appid=6WU6JX-46EP5U9AGX&i=1%20btc%20to%20ada%20number\" | sed 's/[^0-9]//g')\n",
    "TICKER=\"1000\"\n",
    "echo \"TICKER = $TICKER\""
   ]
  },
  {
   "cell_type": "code",
   "execution_count": 43,
   "id": "ed13768f",
   "metadata": {},
   "outputs": [
    {
     "name": "stdout",
     "output_type": "stream",
     "text": [
      "Rounding  `TransactionInput` txInterval boundries to:(POSIXTime {getPOSIXTime = 1695221902000},POSIXTime {getPOSIXTime = 1695222262999})\n",
      "TransactionInput {txInterval = (POSIXTime {getPOSIXTime = 1695221902000},POSIXTime {getPOSIXTime = 1695222262999}), txInputs = [NormalInput (IChoice (ChoiceId \"ADAUSD\" \"\") 1000)]}\n",
      "TEApplyNoMatchError\n"
     ]
    },
    {
     "ename": "",
     "evalue": "1",
     "output_type": "error",
     "traceback": []
    }
   ],
   "source": [
    "marlowe-cli run prepare \\\n",
    "  --choice-name \"ADAUSD\" \\\n",
    "  --choice-party \"$addr_test1vqplkzqf5sx7e7ntx4p2v9pvzpalw3zxt0jm4ysqfeernsqng4nkj\" \\\n",
    "  --choice-number \"$TICKER\" \\\n",
    "  --invalid-before \"$((`date -u +%s` * SECOND - 1 * MINUTE))\" \\\n",
    "  --invalid-hereafter \"$((`date -u +%s` * SECOND + 5 * MINUTE))\" \\\n",
    "  --marlowe-file marlowe-1.json \\\n",
    "  --out-file marlowe-2.json"
   ]
  },
  {
   "cell_type": "markdown",
   "id": "e7c652f6-02da-4786-a54d-755d59e4aba9",
   "metadata": {},
   "source": [
    "## Transaction 3. The borrower repays the loan\n",
    "\n",
    "After some time passes, the borrower repays principal plus interest. Thus, they fund the transaction and receive the change at their address."
   ]
  },
  {
   "cell_type": "code",
   "execution_count": null,
   "id": "9756dcb3-a357-4b7d-b132-9c85105f0387",
   "metadata": {
    "tags": [],
    "vscode": {
     "languageId": "shellscript"
    }
   },
   "outputs": [],
   "source": [
    "TX_3=$(\n",
    "marlowe-runtime-cli deposit \\\n",
    "  --contract \"$CONTRACT_ID\" \\\n",
    "  --from-party \"$BORROWER_ADDR\" \\\n",
    "  --to-party \"$BORROWER_ADDR\" \\\n",
    "  --lovelace \"$((PRINCIPAL+INTEREST))\" \\\n",
    "  --change-address \"$BORROWER_ADDR\" \\\n",
    "  --manual-sign tx-3.unsigned \\\n",
    "| jq -r 'fromjson | .txId' \\\n",
    ")\n",
    "echo \"TX_3 = $TX_3\""
   ]
  },
  {
   "cell_type": "markdown",
   "id": "ccdcc822-ba62-41cb-bde1-55bfc661ce16",
   "metadata": {},
   "source": [
    "Once again, use `marlowe-cli` to submit the transaction and then wait for confirmation."
   ]
  },
  {
   "cell_type": "code",
   "execution_count": null,
   "id": "5fa86263-3fde-4995-be45-9625cbb35237",
   "metadata": {
    "tags": [],
    "vscode": {
     "languageId": "shellscript"
    }
   },
   "outputs": [],
   "source": [
    "echo \"submiting transaction...\"\n",
    "marlowe-cli transaction submit \\\n",
    "  --tx-body-file tx-3.unsigned \\\n",
    "  --required-signer \"$BORROWER_SKEY\" \\\n",
    "  --timeout 600s"
   ]
  },
  {
   "cell_type": "markdown",
   "id": "3ef67b53-b30a-4408-a43e-97f1f0715ed0",
   "metadata": {},
   "source": [
    "One can view the transaction on the Cardano or Marlowe explorer. It sometimes takes thirty seconds or so for the transaction to be visible in an explorer."
   ]
  },
  {
   "cell_type": "code",
   "execution_count": null,
   "id": "94e9f529-529b-4777-b829-dcab0a5fc3b8",
   "metadata": {
    "tags": [],
    "vscode": {
     "languageId": "shellscript"
    }
   },
   "outputs": [],
   "source": [
    "echo \"Cardano Scan (low level)\"\n",
    "$SCRIPTS/cardano-scan-tx.sh $TX_3\n",
    "echo\n",
    "echo \"Marlowe Scan (high level)\"\n",
    "$SCRIPTS/marlowe-scan.sh $CONTRACT_ID"
   ]
  },
  {
   "cell_type": "markdown",
   "id": "af13b1f3-d5e2-4ebc-8023-f0fd5875c0a5",
   "metadata": {},
   "source": [
    "One can see that the lender received back the 80 ada of principal and the 2 ada deposited when the contract was created, along with the additional 5 ada of interest, totallying 87 ada."
   ]
  },
  {
   "cell_type": "code",
   "execution_count": null,
   "id": "492de5e8-7f07-437c-9f88-80ccdf00636f",
   "metadata": {
    "tags": [],
    "vscode": {
     "languageId": "shellscript"
    }
   },
   "outputs": [],
   "source": [
    "echo \"Lender:\"\n",
    "$SCRIPTS/cardano-scan-address.sh $LENDER_ADDR\n",
    "echo\n",
    "cardano-cli query utxo --testnet-magic \"$CARDANO_TESTNET_MAGIC\" --address \"$LENDER_ADDR\""
   ]
  },
  {
   "cell_type": "markdown",
   "id": "1196c641-e92e-4848-a20b-b673d7fcbc71",
   "metadata": {},
   "source": [
    "The borrower now has about 5 ada (the loan's interest) less than originally."
   ]
  },
  {
   "cell_type": "code",
   "execution_count": null,
   "id": "3e8f27e3-e94a-4332-94a2-2f8af8800d56",
   "metadata": {
    "tags": [],
    "vscode": {
     "languageId": "shellscript"
    }
   },
   "outputs": [],
   "source": [
    "echo \"Borrower:\"\n",
    "$SCRIPTS/cardano-scan-address.sh $BORROWER_ADDR\n",
    "echo\n",
    "cardano-cli query utxo --testnet-magic \"$CARDANO_TESTNET_MAGIC\" --address \"$BORROWER_ADDR\""
   ]
  },
  {
   "cell_type": "markdown",
   "id": "8b4951f7-58bb-4399-a09a-2029f4e2dfe4",
   "metadata": {},
   "source": [
    "The Marlowe contract has closed, so there is no output to its script address."
   ]
  }
 ],
 "metadata": {
  "kernelspec": {
   "display_name": "Bash with Marlowe Tools",
   "language": "bash",
   "name": "bash-minimal"
  },
  "language_info": {
   "codemirror_mode": "shell",
   "file_extension": ".sh",
   "mimetype": "text/x-sh",
   "name": "bash"
  }
 },
 "nbformat": 4,
 "nbformat_minor": 5
}
