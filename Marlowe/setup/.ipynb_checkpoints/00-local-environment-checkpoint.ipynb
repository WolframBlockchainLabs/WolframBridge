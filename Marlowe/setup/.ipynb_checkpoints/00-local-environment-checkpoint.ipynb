{
 "cells": [
  {
   "cell_type": "markdown",
   "id": "4f3e8ba1-d2d2-4393-8c9e-8d324d444230",
   "metadata": {},
   "source": [
    "# Local environment checks\n",
    "\n",
    "***Before running this notebook, you might want to use Jupyter's \"clear output\" function to erase the results of the previous execution of this notebook. That will make more apparent what has been executed in the current session.***\n",
    "\n",
    "This notebook serves as a tool for verifying the proper configuration and functionality of your local Marlowe Runtime installation. If you are utilizing the [demeter.run](https://demeter.run/) development platform, you can skip this.\n",
    "\n",
    "📌 **Note**: You can watch a video that guides you through this Jupyter notebook [here (TODO)](https://youtu.be/TODO).\n",
    "\n",
    "Should you have any inquiries about Marlowe, feel free to ask questions in the [IOG Discord's #ask-marlowe channel](https://discord.com/channels/826816523368005654/936295815926927390), or if you encounter any challenges with this lesson, you can report them in the [Marlowe Starter Kit GitHub repository's issues section](https://github.com/input-output-hk/marlowe-starter-kit/issues).\n"
   ]
  },
  {
   "cell_type": "markdown",
   "id": "4a2ec343-a4e7-4ad6-ae82-0b3ce6c1d2f9",
   "metadata": {},
   "source": [
    "## Command Line Tools and Environment\n",
    "\n",
    "This section introduces the `check-tools-and-env.sh` script, located in the *scripts* folder. This script is designed to validate that the required command line tools and environment settings are correctly set.\n",
    "\n",
    "You can delve into the *scripts* folder to find different helpers that are used accross the different notebooks."
   ]
  },
  {
   "cell_type": "code",
   "execution_count": 1,
   "id": "01b538d8",
   "metadata": {
    "tags": [],
    "vscode": {
     "languageId": "shellscript"
    }
   },
   "outputs": [
    {
     "name": "stdout",
     "output_type": "stream",
     "text": [
      "########################\n",
      "## Check CLI commands ##\n",
      "########################\n",
      "\n",
      "The following required programs are available in the shell:\n",
      "  * jq\n",
      "  * json2yaml\n",
      "  * marlowe-cli\n",
      "  * marlowe-runtime-cli\n",
      "  * cardano-cli\n",
      "  * cardano-address\n",
      "  * cardano-wallet\n",
      "\n",
      "#########################\n",
      "## Check required envs ##\n",
      "#########################\n",
      "\n",
      "The following environment variables are available in the shell:\n",
      "  * CARDANO_NODE_SOCKET_PATH = /ipc/node.socket\n",
      "  * MARLOWE_RT_HOST = proxy\n",
      "  * MARLOWE_RT_PORT = 3700\n",
      "  * MARLOWE_RT_WEBSERVER_HOST = web-server\n",
      "  * MARLOWE_RT_WEBSERVER_PORT = 3780\n",
      "  * MARLOWE_RT_WEBSERVER_URL = http://web-server:3780\n",
      "\n",
      "###################\n",
      "## Check Network ##\n",
      "###################\n",
      "\n",
      "The NETWORK is set to preprod\n",
      "CARDANO_TESTNET_MAGIC = 1\n",
      "CARDANO_SCAN_URL = https://preprod.cardanoscan.io\n",
      "MARLOWE_SCAN_URL = https://preprod.marlowescan.com\n"
     ]
    }
   ],
   "source": [
    "export SCRIPTS=../scripts\n",
    "source $SCRIPTS/check-tools-and-env.sh"
   ]
  },
  {
   "cell_type": "markdown",
   "id": "1d04e564-9695-43f2-b465-74fab8f21f5b",
   "metadata": {},
   "source": [
    "## Check the Health of the Marlowe Runtime Services\n",
    "\n",
    "### Cardano Node\n",
    "\n",
    "When `cardano-node` is started, it may take minutes or hours to synchronize with the tip of the blockchain, depending upon the network. Wait until querying the node shows that its `syncProgress` is 100%.\n"
   ]
  },
  {
   "cell_type": "code",
   "execution_count": 2,
   "id": "113b3e9f",
   "metadata": {
    "tags": [],
    "vscode": {
     "languageId": "shellscript"
    }
   },
   "outputs": [
    {
     "name": "stdout",
     "output_type": "stream",
     "text": [
      "block: 1501600\n",
      "epoch: 101\n",
      "era: Babbage\n",
      "hash: f42b3fde374daec0f6d40f05d60a6967d2e5b1578e78a94949dd6d7d26df0b26\n",
      "slot: 42040849\n",
      "syncProgress: '100.00'\n"
     ]
    }
   ],
   "source": [
    "cardano-cli query tip --testnet-magic \"$CARDANO_TESTNET_MAGIC\" | json2yaml"
   ]
  },
  {
   "cell_type": "markdown",
   "id": "616f6891",
   "metadata": {},
   "source": [
    "###  Marlowe Runtime Indexers\n",
    "\n",
    "Check to see that `marlowe-chain-indexer` has reached the tip of the blockchain."
   ]
  },
  {
   "cell_type": "code",
   "execution_count": 3,
   "id": "77d87f85",
   "metadata": {
    "scrolled": true,
    "tags": [],
    "vscode": {
     "languageId": "shellscript"
    }
   },
   "outputs": [
    {
     "name": "stdout",
     "output_type": "stream",
     "text": [
      "   max    \n",
      "----------\n",
      " 41214915\n",
      "(1 row)\n",
      "\n"
     ]
    }
   ],
   "source": [
    "psql chain_preprod -c 'select max(slotno) from chain.block;'"
   ]
  },
  {
   "cell_type": "markdown",
   "id": "25aaf0c3",
   "metadata": {},
   "source": [
    "Also check to see that `marlowe-indexer` has *approximately* reached the tip of the blockchain."
   ]
  },
  {
   "cell_type": "code",
   "execution_count": 4,
   "id": "938db9ff",
   "metadata": {
    "tags": [],
    "vscode": {
     "languageId": "shellscript"
    }
   },
   "outputs": [
    {
     "name": "stdout",
     "output_type": "stream",
     "text": [
      "   max    \n",
      "----------\n",
      " 40943712\n",
      "(1 row)\n",
      "\n"
     ]
    }
   ],
   "source": [
    "psql chain_preprod -c 'select max(slotno) from marlowe.block;'"
   ]
  },
  {
   "cell_type": "markdown",
   "id": "988a304a",
   "metadata": {},
   "source": [
    "*Troubleshooting note:* If the `marlowe-chain-indexer` or `marlowe-indexer` query result is `null` or an extremely low number such as `-1`, you may need to reset the docker postgres volume. You can do that from the HOST machine:\n",
    "\n",
    "```bash\n",
    "docker-compose stop postgres\n",
    "docker-compose remove postgres\n",
    "docker volume rm marlowe-starter-kit-postgres\n",
    "docker-compose up -d\n",
    "```\n",
    "\n",
    "\n",
    "### Marlowe Runtime Proxy Service\n",
    "\n",
    "Check that the `marlowe-runtime-cli` command can communicate with the Marlowe Runtime backend services by querying the history of one of the Marlowe contracts that has previously been executed on the blockchain."
   ]
  },
  {
   "cell_type": "code",
   "execution_count": 5,
   "id": "be8c6726",
   "metadata": {
    "tags": [],
    "vscode": {
     "languageId": "shellscript"
    }
   },
   "outputs": [
    {
     "name": "stdout",
     "output_type": "stream",
     "text": [
      "\u001b[93mtransaction 2e515845d04e18bda77d48010948ca891870baf1a2e68d3262d22ec0af4f6f5e (creation)\n",
      "\u001b[0mContractId:      2e515845d04e18bda77d48010948ca891870baf1a2e68d3262d22ec0af4f6f5e#1\n",
      "SlotNo:          36331326\n",
      "BlockNo:         1269293\n",
      "BlockId:         150abc6e062dc3918da93d763f8b404e66775103423c36978c4dcdc32f61ff02\n",
      "ScriptAddress:   addr_test1wqhdyccahvnheppng3fut3phhp3jt5m37zp4529ezz535ms2u9jqv\n",
      "Marlowe Version: 1\n",
      "\n",
      "\n",
      "\n",
      "\u001b[93mtransaction c3bffabba1c2811f87bd034173fb1180501e2de2ff3b6ea2fb6b3a19f08ed338 (close)\n",
      "\u001b[0mContractId: 2e515845d04e18bda77d48010948ca891870baf1a2e68d3262d22ec0af4f6f5e#1\n",
      "SlotNo:     36331421\n",
      "BlockNo:    1269294\n",
      "BlockId:    898d6a8bcc95ca065939f6eeb27882436408f3e72d415b34d1725dc2439a5107\n",
      "Inputs:     [NormalInput INotify]\n",
      "\n",
      "\n"
     ]
    }
   ],
   "source": [
    "if [ \"${CARDANO_TESTNET_MAGIC}\" == \"1\" ]; then\n",
    "  export \"CONTRACT_ID=2e515845d04e18bda77d48010948ca891870baf1a2e68d3262d22ec0af4f6f5e#1\"\n",
    "elif [ \"${CARDANO_TESTNET_MAGIC}\" == \"2\" ]; then\n",
    "  export \"CONTRACT_ID=da3c4c1d6f0c052fb149e9bc0600f0869e0fbc1d7c1ae455c0d2cb1ed9717c30#1\"\n",
    "else\n",
    "  export \"CONTRACT_ID=a1e0b1ff9743fc501f5e07f8db1ef9b148ea9e31f1ea190b1afaebc59ec0faac#1\"\n",
    "fi\n",
    "\n",
    "marlowe-runtime-cli log $CONTRACT_ID"
   ]
  },
  {
   "cell_type": "markdown",
   "id": "25444873",
   "metadata": {},
   "source": [
    "We can also see the contract in the [Marlowe Scan tool](https://docs.marlowe.iohk.io/docs/getting-started/marlowe-scan)"
   ]
  },
  {
   "cell_type": "code",
   "execution_count": 6,
   "id": "60bd1323",
   "metadata": {
    "tags": [],
    "vscode": {
     "languageId": "shellscript"
    }
   },
   "outputs": [
    {
     "name": "stdout",
     "output_type": "stream",
     "text": [
      "https://preprod.marlowescan.com/contractView?tab=info&contractId=2e515845d04e18bda77d48010948ca891870baf1a2e68d3262d22ec0af4f6f5e%231\n"
     ]
    }
   ],
   "source": [
    "$SCRIPTS/marlowe-scan.sh $CONTRACT_ID"
   ]
  },
  {
   "cell_type": "markdown",
   "id": "57168bd3",
   "metadata": {},
   "source": [
    "### Marlowe Runtime Web Server\n",
    "\n",
    "Check that one can communicate with the Marlowe Runtime web server and receive a `200 OK` response.\n"
   ]
  },
  {
   "cell_type": "code",
   "execution_count": 7,
   "id": "f7ac3f8a",
   "metadata": {
    "tags": [],
    "vscode": {
     "languageId": "shellscript"
    }
   },
   "outputs": [
    {
     "name": "stdout",
     "output_type": "stream",
     "text": [
      "HTTP/1.1 200 OK\n",
      "\u001b[1mDate\u001b[0m: Thu, 19 Oct 2023 14:02:19 GMT\n",
      "\u001b[1mServer\u001b[0m: Warp/3.3.24\n",
      "\u001b[1mContent-Type\u001b[0m: application/json;charset=utf-8\n",
      "\u001b[1mX-Node-Tip\u001b[0m: {\"blockHeader\":{\"blockHeaderHash\":\"c07d1bc52dd2284eed47b62a5c09614dcdfec54558d5ed00376fe33844a0efde\",\"blockNo\":1501602,\"slotNo\":42040929},\"slotTimeUTC\":\"2023-10-19T14:02:09Z\"}\n",
      "\u001b[1mX-Runtime-Chain-Tip\u001b[0m: {\"blockHeader\":{\"blockHeaderHash\":\"b0ebbb0edb395f8715bfd5fca2bf57d154fc3d23e1d4efc2ee082bd5fdb27ec1\",\"blockNo\":1468544,\"slotNo\":41214915},\"slotTimeUTC\":\"2023-10-10T00:35:15Z\"}\n",
      "\u001b[1mX-Runtime-Tip\u001b[0m: {\"blockHeader\":{\"blockHeaderHash\":\"14640acc553aa9fb4906d224d12b4d9e0c4723da3ff5d946e9023b25a6bbfb27\",\"blockNo\":1457458,\"slotNo\":40943712},\"slotTimeUTC\":\"2023-10-06T21:15:12Z\"}\n",
      "\u001b[1mX-Runtime-Version\u001b[0m: 0.0.4\n",
      "\u001b[1mX-Network-Id\u001b[0m: 1\n",
      "\n"
     ]
    }
   ],
   "source": [
    "curl -sSI \"$MARLOWE_RT_WEBSERVER_URL/healthcheck\""
   ]
  },
  {
   "cell_type": "code",
   "execution_count": null,
   "id": "0d4e7b16",
   "metadata": {},
   "outputs": [],
   "source": []
  }
 ],
 "metadata": {
  "kernelspec": {
   "display_name": "Bash with Marlowe Tools",
   "language": "bash",
   "name": "bash-minimal"
  },
  "language_info": {
   "codemirror_mode": "shell",
   "file_extension": ".sh",
   "mimetype": "text/x-sh",
   "name": "bash"
  }
 },
 "nbformat": 4,
 "nbformat_minor": 5
}
