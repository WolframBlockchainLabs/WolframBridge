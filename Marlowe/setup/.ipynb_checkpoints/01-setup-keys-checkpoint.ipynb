{
 "cells": [
  {
   "cell_type": "markdown",
   "id": "4f3e8ba1-d2d2-4393-8c9e-8d324d444230",
   "metadata": {},
   "source": [
    "# Preliminaries for Using the Marlowe Starter Kit\n",
    "\n",
    "***Before running this notebook, you might want to use Jupyter's \"clear output\" function to erase the results of the previous execution of this notebook. That will make more apparent what has been executed in the current session.***\n",
    "\n",
    "This notebook provides instructions on setting up signing keys and addresses for this starter kit. It covers the following information:\n",
    "\n",
    "- Check for cli tools and environment variables\n",
    "- Creating addresses and signing keys\n",
    "    - The faucet\n",
    "    - The lender\n",
    "    - The borrower\n",
    "    - The mediator\n",
    "- Obtaining test ada\n",
    "- Fund the addresses of the parties\n",
    "    - Using Daedalus or a web-browser wallet\n",
    "    - Using a local faucet at the command line\n",
    "    \n",
    "[A video works through this Jupyter notebook.](https://youtu.be/hGBmj9ZrYHs)\n",
    "\n",
    "You can ask questions about Marlowe in [the #ask-marlowe channel on the IOG Discord](https://discord.com/channels/826816523368005654/936295815926927390) or post problems with this lesson to [the issues list for the Marlowe Starter Kit github repository](https://github.com/input-output-hk/marlowe-starter-kit/issues)."
   ]
  },
  {
   "cell_type": "markdown",
   "id": "4a2ec343-a4e7-4ad6-ae82-0b3ce6c1d2f9",
   "metadata": {},
   "source": [
    "## Command Line Tools and Environment\n",
    "\n",
    "This section introduces the `check-tools-and-env.sh` script, located in the *scripts* folder. This script is designed to validate that the required command line tools and environment settings are correctly set.\n",
    "\n",
    "You can delve into the [scripts folder notebook](../scripts/scripts.ipynb) to find different helpers that are used accross the different notebooks."
   ]
  },
  {
   "cell_type": "code",
   "execution_count": 1,
   "id": "c65c78dc",
   "metadata": {
    "tags": [],
    "vscode": {
     "languageId": "shellscript"
    }
   },
   "outputs": [
    {
     "name": "stdout",
     "output_type": "stream",
     "text": [
      "########################\n",
      "## Check CLI commands ##\n",
      "########################\n",
      "\n",
      "The following required programs are available in the shell:\n",
      "  * jq\n",
      "  * json2yaml\n",
      "  * marlowe-cli\n",
      "  * marlowe-runtime-cli\n",
      "  * cardano-cli\n",
      "  * cardano-address\n",
      "  * cardano-wallet\n",
      "\n",
      "#########################\n",
      "## Check required envs ##\n",
      "#########################\n",
      "\n",
      "The following environment variables are available in the shell:\n",
      "  * CARDANO_NODE_SOCKET_PATH = /ipc/node.socket\n",
      "  * MARLOWE_RT_HOST = proxy\n",
      "  * MARLOWE_RT_PORT = 3700\n",
      "  * MARLOWE_RT_WEBSERVER_HOST = web-server\n",
      "  * MARLOWE_RT_WEBSERVER_PORT = 3780\n",
      "  * MARLOWE_RT_WEBSERVER_URL = http://web-server:3780\n",
      "  * FAUCET_ADDR = addr_test1vr847d0c4w0zhzk24jptvkuunyz0mhhx4d2m8t7khk4a3fcfr09pw\n",
      "  * FAUCET_SKEY = /nix/store/k4m1p0b4y5kagv34m6a11slygn3y26jg-oci-setup-setupNotebook/notebook/keys/faucet.skey\n",
      "\n",
      "###################\n",
      "## Check Network ##\n",
      "###################\n",
      "\n",
      "The NETWORK is set to preprod\n",
      "CARDANO_TESTNET_MAGIC = 1\n",
      "CARDANO_SCAN_URL = https://preprod.cardanoscan.io\n",
      "MARLOWE_SCAN_URL = https://preprod.marlowescan.com\n"
     ]
    }
   ],
   "source": [
    "export SCRIPTS=$(realpath ../scripts)\n",
    "export KEYS=$(realpath ../keys)\n",
    "source $SCRIPTS/check-tools-and-env.sh"
   ]
  },
  {
   "cell_type": "markdown",
   "id": "979706db-b6a7-4a50-827a-368835374bb8",
   "metadata": {
    "tags": [],
    "vscode": {
     "languageId": "shellscript"
    }
   },
   "source": [
    "## Creating Addresses and Signing Keys\n",
    "\n",
    "The [Cardano Developers Portal](https://developers.cardano.org/docs/stake-pool-course/handbook/keys-addresses/) contains instructions for creating addresses and signing keys.\n",
    "\n",
    "This starter kit uses the following addresses:\n",
    "- A local *Faucet* used to fund the other parties.\n",
    "- The *Lender* party for the examples in this starter kit.\n",
    "- The *Borrower* party for the examples in this starter kit.\n",
    "- The *Mediator* party for some examples in this starter kit.\n",
    "\n",
    "The instructions below detail how to create signing keys and addresses for these parties. \n",
    "***IMPORTANT:*** The [keys/](../keys/) folder holds the signing keys that will be created for interacting with the Marlowe contract. If you delete or lose these files, then you also forever lose the test ada stored at those addresses. Either backup these files or, after running the tutorials, send the remaining test ada back to a more permanent wallet or return it to the faucet."
   ]
  },
  {
   "cell_type": "markdown",
   "id": "f81c063e-5f03-4dcf-a9b8-297fa2504076",
   "metadata": {},
   "source": [
    "### The Faucet\n",
    "\n",
    "In this section we create a wallet that will act as a faucet we own. "
   ]
  },
  {
   "cell_type": "code",
   "execution_count": 2,
   "id": "8bb867d3-f099-4ce9-8411-af904024e729",
   "metadata": {
    "tags": [],
    "vscode": {
     "languageId": "shellscript"
    }
   },
   "outputs": [
    {
     "name": "stdout",
     "output_type": "stream",
     "text": [
      "Faucet key already present\n"
     ]
    }
   ],
   "source": [
    "FAUCET_SKEY=$KEYS/faucet.skey\n",
    "FAUCET_VKEY=$KEYS/faucet.vkey\n",
    "\n",
    "if [[ ! -e \"$FAUCET_SKEY\" ]]\n",
    "then\n",
    "  echo \"Creating Faucet key\"\n",
    "  cardano-cli address key-gen \\\n",
    "    --signing-key-file \"$FAUCET_SKEY\" \\\n",
    "    --verification-key-file \"$FAUCET_VKEY\"\n",
    "else \n",
    "  echo \"Faucet key already present\"\n",
    "fi"
   ]
  },
  {
   "cell_type": "markdown",
   "id": "7f6a11b1-8508-48f7-a876-fa36deeca8cb",
   "metadata": {},
   "source": [
    "Compute the faucet's address on the testnet."
   ]
  },
  {
   "cell_type": "code",
   "execution_count": 3,
   "id": "1f8ede90-4c8d-4c97-a449-36e7a37aca42",
   "metadata": {
    "tags": [],
    "vscode": {
     "languageId": "shellscript"
    }
   },
   "outputs": [
    {
     "name": "stdout",
     "output_type": "stream",
     "text": [
      "FAUCET_ADDR = addr_test1vr847d0c4w0zhzk24jptvkuunyz0mhhx4d2m8t7khk4a3fcfr09pw\n"
     ]
    }
   ],
   "source": [
    "FAUCET_ADDR=$(cardano-cli address build --testnet-magic \"$CARDANO_TESTNET_MAGIC\" --payment-verification-key-file \"$FAUCET_VKEY\" )\n",
    "echo \"$FAUCET_ADDR\" > $KEYS/faucet.address\n",
    "echo \"FAUCET_ADDR = $FAUCET_ADDR\""
   ]
  },
  {
   "cell_type": "markdown",
   "id": "709cad6d-8355-4959-a0a6-db0cac4824ae",
   "metadata": {},
   "source": [
    "### The Lender\n",
    "\n",
    "To create the rest of the wallets we use the `create-test-wallet.sh` script, which will setup the signing key, address and also a recovery phrase to use together with a wallet"
   ]
  },
  {
   "cell_type": "code",
   "execution_count": 4,
   "id": "c66c378f-34f8-484f-acc7-200a40fb2468",
   "metadata": {
    "tags": [],
    "vscode": {
     "languageId": "shellscript"
    }
   },
   "outputs": [
    {
     "name": "stdout",
     "output_type": "stream",
     "text": [
      "The file /nix/store/k4m1p0b4y5kagv34m6a11slygn3y26jg-oci-setup-setupNotebook/notebook/keys/lender.address already exists, we won't overwrite it.\n",
      "Exporting variables:\n",
      "  * LENDER_SKEY = /nix/store/k4m1p0b4y5kagv34m6a11slygn3y26jg-oci-setup-setupNotebook/notebook/keys/lender.skey\n",
      "  * LENDER_VKEY = /nix/store/k4m1p0b4y5kagv34m6a11slygn3y26jg-oci-setup-setupNotebook/notebook/keys/lender.vkey\n",
      "  * LENDER_ADDR = addr_test1vpt306v4wp7m6xn46hje64d6yuraxsruna03as4qgakm5cc222sc0\n"
     ]
    }
   ],
   "source": [
    "source $SCRIPTS/create-test-wallet.sh lender"
   ]
  },
  {
   "cell_type": "markdown",
   "id": "82c69f5c-c6fe-4aa6-bef2-6daab94adba4",
   "metadata": {},
   "source": [
    "### The Borrower\n",
    "\n",
    "Do the same for the borrower"
   ]
  },
  {
   "cell_type": "code",
   "execution_count": 5,
   "id": "7a4cfdc0-0150-428d-b242-b463dea5a0c7",
   "metadata": {
    "tags": [],
    "vscode": {
     "languageId": "shellscript"
    }
   },
   "outputs": [
    {
     "name": "stdout",
     "output_type": "stream",
     "text": [
      "The file /nix/store/k4m1p0b4y5kagv34m6a11slygn3y26jg-oci-setup-setupNotebook/notebook/keys/borrower.address already exists, we won't overwrite it.\n",
      "Exporting variables:\n",
      "  * BORROWER_SKEY = /nix/store/k4m1p0b4y5kagv34m6a11slygn3y26jg-oci-setup-setupNotebook/notebook/keys/borrower.skey\n",
      "  * BORROWER_VKEY = /nix/store/k4m1p0b4y5kagv34m6a11slygn3y26jg-oci-setup-setupNotebook/notebook/keys/borrower.vkey\n",
      "  * BORROWER_ADDR = addr_test1vpyxad0mhrxgme9yz2yntdcnxknr6w6zrf70etua6przugcfsmd48\n"
     ]
    }
   ],
   "source": [
    "source $SCRIPTS/create-test-wallet.sh borrower"
   ]
  },
  {
   "cell_type": "markdown",
   "id": "a888e3e6-bdab-4763-8f7f-5c72c990ea90",
   "metadata": {},
   "source": [
    "### The Mediator\n",
    "\n",
    "Do the same for the mediator"
   ]
  },
  {
   "cell_type": "code",
   "execution_count": 6,
   "id": "89967b6a-01a0-42a6-ba70-258f67a2ddba",
   "metadata": {
    "tags": [],
    "vscode": {
     "languageId": "shellscript"
    }
   },
   "outputs": [
    {
     "name": "stdout",
     "output_type": "stream",
     "text": [
      "The file /nix/store/k4m1p0b4y5kagv34m6a11slygn3y26jg-oci-setup-setupNotebook/notebook/keys/mediator.address already exists, we won't overwrite it.\n",
      "Exporting variables:\n",
      "  * MEDIATOR_SKEY = /nix/store/k4m1p0b4y5kagv34m6a11slygn3y26jg-oci-setup-setupNotebook/notebook/keys/mediator.skey\n",
      "  * MEDIATOR_VKEY = /nix/store/k4m1p0b4y5kagv34m6a11slygn3y26jg-oci-setup-setupNotebook/notebook/keys/mediator.vkey\n",
      "  * MEDIATOR_ADDR = addr_test1vqplkzqf5sx7e7ntx4p2v9pvzpalw3zxt0jm4ysqfeernsqng4nkj\n"
     ]
    }
   ],
   "source": [
    "source $SCRIPTS/create-test-wallet.sh mediator"
   ]
  },
  {
   "cell_type": "markdown",
   "id": "74ea3de1-6c14-4ef6-a5ab-e8784cc879cc",
   "metadata": {},
   "source": [
    "## Obtaining Test Ada\n",
    "\n",
    "In order to execute transactions on a Cardano network, one needs the native currency ada to pay fees and use as funds. There are the faucets for the public testnets at https://docs.cardano.org/cardano-testnet/tools/faucet where one can obtain test ada daily.\n",
    "\n",
    "Optionally, it can be convenient to centrally manage funds with a [web-browser wallets](https://builtoncardano.com/ecosystem/wallets): be sure to select the correct public testnet if using one of these wallets.\n",
    "\n",
    "If you will be using a local faucet (recommended), then send test ada to the faucet address created in the previous section. Otherwise, send the test ada to the web-browser wallet."
   ]
  },
  {
   "cell_type": "code",
   "execution_count": null,
   "id": "73e739b1-9d2f-4f36-b1ce-24e9e6c88f4b",
   "metadata": {
    "tags": [],
    "vscode": {
     "languageId": "shellscript"
    }
   },
   "outputs": [],
   "source": [
    "echo \"FAUCET_ADDR = $FAUCET_ADDR\"\n",
    "echo\n",
    "$SCRIPTS/cardano-scan-address.sh $FAUCET_ADDR"
   ]
  },
  {
   "cell_type": "markdown",
   "id": "415587c0-2559-4ecc-b4cc-737fd3d955d9",
   "metadata": {},
   "source": [
    "## Fund the Addresses of the Parties\n",
    "\n",
    "We'll fund each address with 1000 test ada."
   ]
  },
  {
   "cell_type": "code",
   "execution_count": null,
   "id": "7c2069be-6817-4193-90bf-fd2a5fb26de7",
   "metadata": {
    "tags": [],
    "vscode": {
     "languageId": "shellscript"
    }
   },
   "outputs": [],
   "source": [
    "echo \"LENDER_ADDR = $LENDER_ADDR\"\n",
    "echo \"BORROWER_ADDR = $BORROWER_ADDR\"\n",
    "echo \"MEDIATOR_ADDR = $MEDIATOR_ADDR\""
   ]
  },
  {
   "cell_type": "markdown",
   "id": "3829569e-7f4a-4d2f-983a-b23d81c5b190",
   "metadata": {},
   "source": [
    "### Using Daedalus or a Web-Browser Wallet\n",
    "\n",
    "If you already have a wallet wallet that contains test ada, then you can just send the funds to the addresses of the keys that we created in the previous section.\n"
   ]
  },
  {
   "cell_type": "markdown",
   "id": "2c14be5d-b4ae-4c62-9cc4-271fe79dcaea",
   "metadata": {},
   "source": [
    "### Using a Local Faucet at the Command Line\n",
    "\n",
    "One can use `cardano-cli` or `marlowe-cli` send funds to an address. Here we use `marlowe-cli`.\n",
    "\n",
    "***If you have just funded `FAUCET_ADDR` with ada, you may have to wait a couple of minutes before that transaction is confirmed. If the command below fails, then retry it until it succeeds.***"
   ]
  },
  {
   "cell_type": "code",
   "execution_count": null,
   "id": "5bcf4056-963b-41e1-b963-6af2c09498b5",
   "metadata": {
    "tags": [],
    "vscode": {
     "languageId": "shellscript"
    }
   },
   "outputs": [],
   "source": [
    "# Note that `FAUCET_ADDR` must have already been funded with test ada.\n",
    "\n",
    "# 1 ada = 1,000,000 lovelace\n",
    "ADA=1000000\n",
    "\n",
    "# Send 1000 ada\n",
    "AMOUNT=$((1000 * ADA))\n",
    "\n",
    "# Execute the transaction.\n",
    "marlowe-cli util fund-address \\\n",
    " --lovelace \"$AMOUNT\" \\\n",
    " --out-file /dev/null \\\n",
    " --source-wallet-credentials \"$FAUCET_ADDR\":\"$FAUCET_SKEY\" \\\n",
    " --submit 600 \\\n",
    " \"$LENDER_ADDR\" \"$BORROWER_ADDR\" \"$MEDIATOR_ADDR\""
   ]
  },
  {
   "cell_type": "markdown",
   "id": "90fc1ce5",
   "metadata": {},
   "source": [
    "Alternatively you can use the `fund-wallets.sh` script as a single liner\n",
    "> NOTE: The following script does the same as the above, no need to do it twice."
   ]
  },
  {
   "cell_type": "code",
   "execution_count": null,
   "id": "8164dc98",
   "metadata": {
    "tags": [],
    "vscode": {
     "languageId": "shellscript"
    }
   },
   "outputs": [],
   "source": [
    "$SCRIPTS/fund-wallets.sh $LENDER_ADDR $BORROWER_ADDR $MEDIATOR_ADDR"
   ]
  },
  {
   "cell_type": "markdown",
   "id": "a9096d7c-9b21-48a6-b747-c14560486d17",
   "metadata": {},
   "source": [
    "See that the addresses have indeed been funded:"
   ]
  },
  {
   "cell_type": "code",
   "execution_count": 7,
   "id": "d4f822da-45bf-4222-95fa-5ce6a912869b",
   "metadata": {
    "tags": [],
    "vscode": {
     "languageId": "shellscript"
    }
   },
   "outputs": [
    {
     "name": "stdout",
     "output_type": "stream",
     "text": [
      "\n",
      "Lender\n",
      "https://preprod.cardanoscan.io/address/addr_test1vpt306v4wp7m6xn46hje64d6yuraxsruna03as4qgakm5cc222sc0\n",
      "\n",
      "                           TxHash                                 TxIx        Amount\n",
      "--------------------------------------------------------------------------------------\n",
      "1b90df630aed43d2e92a1dde720e4879cca495d2e14077af17019cc72810f5aa     2        2000000 lovelace + TxOutDatumNone\n",
      "2eaf02fbaeca4386fe1d07c8b268e0e0ef4048d5d53c514de33cf397190b5847     4        1034400 lovelace + 1 f94962a6a0edb937ae7b606053667e82416207854cb9f2f4418d4654.53656c6c6572 + TxOutDatumNone\n",
      "6074069fd35c5626aa985460c04dc1da05857ac0a6a3e3a9fcaff39abc841522     1        2000000 lovelace + TxOutDatumNone\n",
      "984717a6b1f6f91db61c38a0128ac23d96a7ad407db903fbbc1bd17fd83b7155     0        44581382 lovelace + TxOutDatumNone\n",
      "b6f45988e23c9b6f056797dba438d4930eae4d4e32e2484c2d413472f7d57edb     1        3000000 lovelace + TxOutDatumNone\n",
      "c4a312d601fbd614e191873362c9dac187ab4d94f35ff6d9bbb986ec88aeef47     1        3000000 lovelace + TxOutDatumNone\n",
      "e56058d4fe094e0318e3c940a259b7ab6d0d9c34325849ccec0bb75b37de7ad2     1        22000000 lovelace + TxOutDatumNone\n",
      "f180f25accfa03f13cb8f0978c6abbaec8a65fb6a74c73b54272c43961f146d7     0        903386436 lovelace + TxOutDatumNone\n",
      "f57ee7a4e8707b8df9798357a2e5b0d811e67ae658c6f751e816d8a82c340220     0        8221879 lovelace + TxOutDatumNone\n",
      "f73fb7271844f7756c39a2a3210b91e5309762ee029f2ae6dfeb3a6492068826     0        8221879 lovelace + TxOutDatumNone\n",
      "f9ae5b2e825a52f3120b97d79b660a91d8de3a1580b92e92f20c1bfa88980177     0        990032622 lovelace + TxOutDatumNone\n",
      "\n",
      "\n",
      "\n",
      "\n",
      "Borrower\n",
      "https://preprod.cardanoscan.io/address/addr_test1vpyxad0mhrxgme9yz2yntdcnxknr6w6zrf70etua6przugcfsmd48\n",
      "                           TxHash                                 TxIx        Amount\n",
      "--------------------------------------------------------------------------------------\n",
      "1b90df630aed43d2e92a1dde720e4879cca495d2e14077af17019cc72810f5aa     1        2000000 lovelace + TxOutDatumNone\n",
      "22c0921aaea093e8a7086b5bdc01bba3e5dd23adbffea7b972e99acfeaacd06b     0        806663707 lovelace + TxOutDatumNone\n",
      "632749b7de01ff123d7358070994ae464920306d6e85baa1d5d08e341517639e     0        7545890 lovelace + TxOutDatumNone\n",
      "a6fc03984d971a388e2948fd13097db1a953940fb5d4ca921efd6d1bfc572661     2        1030090 lovelace + 1 f94962a6a0edb937ae7b606053667e82416207854cb9f2f4418d4654.4275796572 + TxOutDatumNone\n",
      "bad3f01f6d56930eb002f58ee6f4df627d458ff6bbcd1b436e8706736c3ae45a     0        996668330 lovelace + TxOutDatumNone\n",
      "bf8079eadd7dd01ce939863c565b81cdc9b833d37bfb167bde7fe06fe4200074     1        10000000 lovelace + TxOutDatumNone\n",
      "e0ffebdee2ab8f218259571830239a711fcd605283f3d1edeb8e4470217af526     2        80000000 lovelace + TxOutDatumNone\n",
      "\n",
      "\n",
      "\n",
      "\n",
      "Mediator @ addr_test1vqplkzqf5sx7e7ntx4p2v9pvzpalw3zxt0jm4ysqfeernsqng4nkj\n",
      "https://preprod.cardanoscan.io/address/addr_test1vqplkzqf5sx7e7ntx4p2v9pvzpalw3zxt0jm4ysqfeernsqng4nkj\n",
      "                           TxHash                                 TxIx        Amount\n",
      "--------------------------------------------------------------------------------------\n",
      "2eaf02fbaeca4386fe1d07c8b268e0e0ef4048d5d53c514de33cf397190b5847     3        1043020 lovelace + 1 f94962a6a0edb937ae7b606053667e82416207854cb9f2f4418d4654.4d65646961746f72 + TxOutDatumNone\n",
      "c4a312d601fbd614e191873362c9dac187ab4d94f35ff6d9bbb986ec88aeef47     0        993415677 lovelace + TxOutDatumNone\n",
      "c5e3402159deefa88a459c4e4ee69f51603a051736b9b054a429766b0cb74290     2        2000000 lovelace + TxOutDatumNone\n",
      "e56058d4fe094e0318e3c940a259b7ab6d0d9c34325849ccec0bb75b37de7ad2     0        998762808 lovelace + TxOutDatumNone\n",
      "\n"
     ]
    }
   ],
   "source": [
    "echo\n",
    "echo \"Lender\"\n",
    "$SCRIPTS/cardano-scan-address.sh $LENDER_ADDR\n",
    "echo\n",
    "cardano-cli query utxo --testnet-magic \"$CARDANO_TESTNET_MAGIC\" --address \"$LENDER_ADDR\"\n",
    "echo\n",
    "echo\n",
    "echo\n",
    "echo\n",
    "\n",
    "echo \"Borrower\"\n",
    "$SCRIPTS/cardano-scan-address.sh $BORROWER_ADDR\n",
    "cardano-cli query utxo --testnet-magic \"$CARDANO_TESTNET_MAGIC\" --address \"$BORROWER_ADDR\"\n",
    "echo\n",
    "echo\n",
    "echo\n",
    "echo\n",
    "\n",
    "echo \"Mediator @ $MEDIATOR_ADDR\"\n",
    "$SCRIPTS/cardano-scan-address.sh $MEDIATOR_ADDR\n",
    "cardano-cli query utxo --testnet-magic \"$CARDANO_TESTNET_MAGIC\" --address \"$MEDIATOR_ADDR\"\n",
    "echo"
   ]
  },
  {
   "cell_type": "markdown",
   "id": "3e5ebe69",
   "metadata": {},
   "source": [
    "## Return funds to the faucet\n",
    "\n",
    "If you are using a local faucet it is recommended to return the test ADA after running the desired notebooks"
   ]
  },
  {
   "cell_type": "code",
   "execution_count": null,
   "id": "8e1bd98c",
   "metadata": {
    "tags": [],
    "vscode": {
     "languageId": "shellscript"
    }
   },
   "outputs": [],
   "source": [
    "$SCRIPTS/return-assets-to-faucet.sh lender\n",
    "$SCRIPTS/return-assets-to-faucet.sh borrower\n",
    "$SCRIPTS/return-assets-to-faucet.sh mediator"
   ]
  }
 ],
 "metadata": {
  "kernelspec": {
   "display_name": "Bash with Marlowe Tools",
   "language": "bash",
   "name": "bash-minimal"
  },
  "language_info": {
   "codemirror_mode": "shell",
   "file_extension": ".sh",
   "mimetype": "text/x-sh",
   "name": "bash"
  }
 },
 "nbformat": 4,
 "nbformat_minor": 5
}
